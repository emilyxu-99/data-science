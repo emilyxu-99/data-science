{
 "cells": [
  {
   "cell_type": "markdown",
   "metadata": {},
   "source": [
    "# Homework 11: Regression Inference"
   ]
  },
  {
   "cell_type": "markdown",
   "metadata": {},
   "source": [
    "**Reading**: \n",
    "* [Inference for Regression](https://www.inferentialthinking.com/chapters/16/inference-for-regression.html)"
   ]
  },
  {
   "cell_type": "markdown",
   "metadata": {},
   "source": [
    "Please complete this notebook by filling in the cells provided. Before you begin, execute the following cell to load the provided tests. Each time you start your server, you will need to execute this cell again to load the tests.\n",
    "\n",
    "Homework 11 is due **Thursday, 11/15 at 11:59pm**. You will receive an early submission bonus point if you turn in your final submission by Wednesday, 11/14 at 11:59pm. Start early so that you can come to office hours if you're stuck. Check the website for the office hours schedule. Late work will not be accepted as per the [policies](http://data8.org/fa18/policies.html) of this course. \n",
    "\n",
    "Directly sharing answers is not okay, but discussing problems with the course staff or with other students is encouraged. Refer to the policies page to learn more about how to learn cooperatively.\n",
    "\n",
    "For all problems that you must write our explanations and sentences for, you **must** provide your answer in the designated space. Moreover, throughout this homework and all future ones, please be sure to not re-assign variables throughout the notebook! For example, if you use `max_temperature` in your answer to one question, do not reassign it later on."
   ]
  },
  {
   "cell_type": "code",
   "execution_count": 1,
   "metadata": {
    "ExecuteTime": {
     "end_time": "2018-04-11T12:12:38.902167Z",
     "start_time": "2018-04-11T12:12:38.883124Z"
    }
   },
   "outputs": [
    {
     "name": "stdout",
     "output_type": "stream",
     "text": [
      "=====================================================================\n",
      "Assignment: Homework 11: Regression Inference\n",
      "OK, version v1.12.5\n",
      "=====================================================================\n",
      "\n",
      "Successfully logged in as emilyxu@berkeley.edu\n"
     ]
    }
   ],
   "source": [
    "# Don't change this cell; just run it. \n",
    "\n",
    "import numpy as np\n",
    "from datascience import *\n",
    "\n",
    "# These lines do some fancy plotting magic.\n",
    "import matplotlib\n",
    "%matplotlib inline\n",
    "import matplotlib.pyplot as plt\n",
    "plt.style.use('fivethirtyeight')\n",
    "import warnings\n",
    "warnings.simplefilter('ignore', FutureWarning)\n",
    "from matplotlib import patches\n",
    "from ipywidgets import interact, interactive, fixed\n",
    "import ipywidgets as widgets\n",
    "\n",
    "from client.api.notebook import Notebook\n",
    "ok = Notebook('hw11.ok')\n",
    "_ = ok.auth(inline=True)"
   ]
  },
  {
   "cell_type": "markdown",
   "metadata": {},
   "source": [
    "## 1. Visual Diagnostics for Linear Regression\n"
   ]
  },
  {
   "cell_type": "markdown",
   "metadata": {},
   "source": [
    "### Regression Model Diagnostics\n",
    "Linear regression isn't always the best way to describe the relationship between two variables. We'd like to develop techniques that will help us decide whether or not to use a linear model to predict one variable based on another.\n",
    "\n",
    "We will use the insight that if a regression fits a set of points well, then the residuals from that regression line will show no pattern when plotted against the predictor variable. \n",
    "\n",
    "The table below contains information about crime rates and median home values in suburbs of Boston. We will attempt to use linear regression to predict median home value in terms of crime rate.\n",
    "\n",
    "#### About the dataset\n",
    "All data are from 1970.  Crime rates are per capita per year; home values are in thousands of dollars.  The crime data come from the FBI, and home values are from the US Census Bureau.  \n",
    "\n",
    "Run the next cell to load the data and see a scatter plot."
   ]
  },
  {
   "cell_type": "code",
   "execution_count": 2,
   "metadata": {},
   "outputs": [
    {
     "data": {
      "image/png": "[encoded data removed]",
      "text/plain": [
       "<Figure size 360x360 with 1 Axes>"
      ]
     },
     "metadata": {},
     "output_type": "display_data"
    }
   ],
   "source": [
    "boston = Table.read_table('boston_housing.csv')\n",
    "boston.scatter('Crime Rate')"
   ]
  },
  {
   "cell_type": "markdown",
   "metadata": {},
   "source": [
    "<div class=\"hide\">\\pagebreak</div>\n",
    "\n",
    "#### Question 1\n",
    "\n",
    "Write a function called `residuals`.  It should take a single argument, a table.  It should first compute the slope and intercept of the regression line that predicts the second column of that table (accessible as `tbl.column(1)`) using the first column (`tbl.column(0)`). The function should return an array containing the *residuals* for that regression line. Recall that residuals are given by \n",
    "\n",
    "$$residual = observed \\ value - regression \\ estimate$$\n",
    "\n",
    "Hint: If your code is getting long, think about how you can split the problem up into multiple smaller, simpler functions."
   ]
  },
  {
   "cell_type": "code",
   "execution_count": 3,
   "metadata": {},
   "outputs": [],
   "source": [
    "def standard_units(any_numbers):\n",
    "    \"Convert any array of numbers to standard units.\"\n",
    "    return (any_numbers - np.mean(any_numbers))/np.std(any_numbers) "
   ]
  },
  {
   "cell_type": "code",
   "execution_count": 4,
   "metadata": {
    "deletable": false,
    "for_assignment_type": "student"
   },
   "outputs": [],
   "source": [
    "# Predict Median Home Value in terms of Crime Rate.\n",
    "\n",
    "def residuals(tbl):\n",
    "    \n",
    "    observed_value = tbl.column(0)\n",
    "    \n",
    "    r = np.average(standard_units(tbl.column(0))*standard_units(tbl.column(1)))                         \n",
    "    slope = r * np.std(tbl.column(1))/np.std(tbl.column(0))\n",
    "    intercept = np.mean(tbl.column(1)) - slope*np.mean(tbl.column(0))\n",
    "                                                                                    \n",
    "    predicted = observed_value*slope + intercept\n",
    "    \n",
    "    residual = tbl.column(1) - predicted\n",
    "                                                                                    \n",
    "    return residual"
   ]
  },
  {
   "cell_type": "code",
   "execution_count": 5,
   "metadata": {
    "deletable": false
   },
   "outputs": [
    {
     "name": "stdout",
     "output_type": "stream",
     "text": [
      "~~~~~~~~~~~~~~~~~~~~~~~~~~~~~~~~~~~~~~~~~~~~~~~~~~~~~~~~~~~~~~~~~~~~~\n",
      "Running tests\n",
      "\n",
      "---------------------------------------------------------------------\n",
      "Test summary\n",
      "    Passed: 1\n",
      "    Failed: 0\n",
      "[ooooooooook] 100.0% passed\n",
      "\n"
     ]
    },
    {
     "data": {
      "application/javascript": [
       "IPython.notebook.save_checkpoint();"
      ],
      "text/plain": [
       "<IPython.core.display.Javascript object>"
      ]
     },
     "metadata": {},
     "output_type": "display_data"
    },
    {
     "data": {
      "application/javascript": [
       "IPython.notebook.save_notebook();"
      ],
      "text/plain": [
       "<IPython.core.display.Javascript object>"
      ]
     },
     "metadata": {},
     "output_type": "display_data"
    },
    {
     "name": "stdout",
     "output_type": "stream",
     "text": [
      "Saving notebook... Saved 'hw11.ipynb'.\n",
      "Backup... 100% complete\n",
      "Backup successful for user: emilyxu@berkeley.edu\n",
      "URL: https://okpy.org/cal/data8/fa18/hw11/backups/yrLpEz\n",
      "NOTE: this is only a backup. To submit your assignment, use:\n",
      "\tpython3 ok --submit\n",
      "\n"
     ]
    }
   ],
   "source": [
    "_ = ok.grade('q1_1')\n",
    "_ = ok.backup()"
   ]
  },
  {
   "cell_type": "markdown",
   "metadata": {},
   "source": [
    "<div class=\"hide\">\\pagebreak</div>\n",
    "\n",
    "#### Question 2\n",
    "\n",
    "Make a scatter plot of the residuals for the Boston housing dataset against crime rate. Crime rate should be on the horizontal axis."
   ]
  },
  {
   "cell_type": "code",
   "execution_count": 6,
   "metadata": {
    "deletable": false
   },
   "outputs": [
    {
     "data": {
      "image/png": "[encoded data removed]",
      "text/plain": [
       "<Figure size 360x360 with 1 Axes>"
      ]
     },
     "metadata": {},
     "output_type": "display_data"
    }
   ],
   "source": [
    "residual = residuals(boston)\n",
    "boston.with_column(\"Residuals\", residual).scatter('Crime Rate')"
   ]
  },
  {
   "cell_type": "markdown",
   "metadata": {},
   "source": [
    "<div class=\"hide\">\\pagebreak</div>\n",
    "\n",
    "#### Question 3\n",
    "\n",
    "Does the plot of residuals look roughly like a formless cloud, or is there some kind of pattern? Are they centered around 0?"
   ]
  },
  {
   "cell_type": "markdown",
   "metadata": {
    "deletable": false,
    "manual_problem_id": "residual_pattern_1"
   },
   "source": [
    "The residual plot looks like it has a somewhat positive correlation, but it isn't very strong.\n",
    "\n",
    "Most of the residual values do look to be near 0."
   ]
  },
  {
   "cell_type": "markdown",
   "metadata": {},
   "source": [
    "<div class=\"hide\">\\pagebreak</div>\n",
    "\n",
    "#### Question 4\n",
    "\n",
    "Does it seem like a linear model is appropriate for describing the relationship between crime and median home value?\n",
    "\n",
    "Assign `linear` to `True` if a linear model is appropriate for describing the relationship, and `False` if it is not."
   ]
  },
  {
   "cell_type": "code",
   "execution_count": 7,
   "metadata": {
    "deletable": false
   },
   "outputs": [],
   "source": [
    "linear = False"
   ]
  },
  {
   "cell_type": "code",
   "execution_count": 8,
   "metadata": {
    "deletable": false
   },
   "outputs": [
    {
     "name": "stdout",
     "output_type": "stream",
     "text": [
      "~~~~~~~~~~~~~~~~~~~~~~~~~~~~~~~~~~~~~~~~~~~~~~~~~~~~~~~~~~~~~~~~~~~~~\n",
      "Running tests\n",
      "\n",
      "---------------------------------------------------------------------\n",
      "Test summary\n",
      "    Passed: 1\n",
      "    Failed: 0\n",
      "[ooooooooook] 100.0% passed\n",
      "\n"
     ]
    },
    {
     "data": {
      "application/javascript": [
       "IPython.notebook.save_checkpoint();"
      ],
      "text/plain": [
       "<IPython.core.display.Javascript object>"
      ]
     },
     "metadata": {},
     "output_type": "display_data"
    },
    {
     "data": {
      "application/javascript": [
       "IPython.notebook.save_notebook();"
      ],
      "text/plain": [
       "<IPython.core.display.Javascript object>"
      ]
     },
     "metadata": {},
     "output_type": "display_data"
    },
    {
     "name": "stdout",
     "output_type": "stream",
     "text": [
      "Saving notebook... Saved 'hw11.ipynb'.\n",
      "Backup... 100% complete\n",
      "Backup successful for user: emilyxu@berkeley.edu\n",
      "URL: https://okpy.org/cal/data8/fa18/hw11/backups/D93w5A\n",
      "NOTE: this is only a backup. To submit your assignment, use:\n",
      "\tpython3 ok --submit\n",
      "\n"
     ]
    }
   ],
   "source": [
    "_ = ok.grade('q1_4')\n",
    "_ = ok.backup()"
   ]
  },
  {
   "cell_type": "markdown",
   "metadata": {},
   "source": [
    "Section [15.6](https://www.inferentialthinking.com/chapters/15/6/numerical-diagnostics.html) of the textbook describes some mathematical facts that hold for all regression estimates, regardless of goodness of fit.  One fact is that there is a relationship between the standard deviation of the residuals, the standard deviation of the response variable, and the correlation.  Let us test this."
   ]
  },
  {
   "cell_type": "markdown",
   "metadata": {},
   "source": [
    "<div class=\"hide\">\\pagebreak</div>\n",
    "\n",
    "#### Question 5\n",
    "\n",
    "Directly compute the standard deviation of the residuals from the Boston data.  Then compute the same quantity without using the residuals, using the formula described in section 15.6 [here](https://www.inferentialthinking.com/chapters/15/6/Numerical_Diagnostics.html#sd-of-the-residuals) instead."
   ]
  },
  {
   "cell_type": "code",
   "execution_count": 9,
   "metadata": {
    "deletable": false
   },
   "outputs": [
    {
     "name": "stdout",
     "output_type": "stream",
     "text": [
      "Residual SD: 8.474144781120948\n",
      "Residual SD from the formula: 8.474144781120948\n"
     ]
    }
   ],
   "source": [
    "r = np.average(standard_units(boston.column(0))*standard_units(boston.column(1)))\n",
    "boston_residual_sd = np.std(residuals(boston))\n",
    "boston_residual_sd_from_formula = np.sqrt(1-(r**2))*np.std(boston.column(1))\n",
    "\n",
    "print(\"Residual SD: {0}\".format(boston_residual_sd))\n",
    "print(\"Residual SD from the formula: {0}\".format(boston_residual_sd_from_formula))"
   ]
  },
  {
   "cell_type": "code",
   "execution_count": 10,
   "metadata": {
    "deletable": false
   },
   "outputs": [
    {
     "name": "stdout",
     "output_type": "stream",
     "text": [
      "~~~~~~~~~~~~~~~~~~~~~~~~~~~~~~~~~~~~~~~~~~~~~~~~~~~~~~~~~~~~~~~~~~~~~\n",
      "Running tests\n",
      "\n",
      "---------------------------------------------------------------------\n",
      "Test summary\n",
      "    Passed: 1\n",
      "    Failed: 0\n",
      "[ooooooooook] 100.0% passed\n",
      "\n"
     ]
    },
    {
     "data": {
      "application/javascript": [
       "IPython.notebook.save_checkpoint();"
      ],
      "text/plain": [
       "<IPython.core.display.Javascript object>"
      ]
     },
     "metadata": {},
     "output_type": "display_data"
    },
    {
     "data": {
      "application/javascript": [
       "IPython.notebook.save_notebook();"
      ],
      "text/plain": [
       "<IPython.core.display.Javascript object>"
      ]
     },
     "metadata": {},
     "output_type": "display_data"
    },
    {
     "name": "stdout",
     "output_type": "stream",
     "text": [
      "Saving notebook... Saved 'hw11.ipynb'.\n",
      "Backup... 100% complete\n",
      "Backup successful for user: emilyxu@berkeley.edu\n",
      "URL: https://okpy.org/cal/data8/fa18/hw11/backups/KZ3Anl\n",
      "NOTE: this is only a backup. To submit your assignment, use:\n",
      "\tpython3 ok --submit\n",
      "\n"
     ]
    }
   ],
   "source": [
    "_ = ok.grade('q1_5')\n",
    "_ = ok.backup()"
   ]
  },
  {
   "cell_type": "markdown",
   "metadata": {},
   "source": [
    "Below, we have imported a new table, the Old Faithful data."
   ]
  },
  {
   "cell_type": "code",
   "execution_count": 11,
   "metadata": {},
   "outputs": [
    {
     "data": {
      "text/html": [
       "<table border=\"1\" class=\"dataframe\">\n",
       "    <thead>\n",
       "        <tr>\n",
       "            <th>duration</th> <th>wait</th>\n",
       "        </tr>\n",
       "    </thead>\n",
       "    <tbody>\n",
       "        <tr>\n",
       "            <td>3.6     </td> <td>79  </td>\n",
       "        </tr>\n",
       "        <tr>\n",
       "            <td>1.8     </td> <td>54  </td>\n",
       "        </tr>\n",
       "        <tr>\n",
       "            <td>3.333   </td> <td>74  </td>\n",
       "        </tr>\n",
       "        <tr>\n",
       "            <td>2.283   </td> <td>62  </td>\n",
       "        </tr>\n",
       "        <tr>\n",
       "            <td>4.533   </td> <td>85  </td>\n",
       "        </tr>\n",
       "        <tr>\n",
       "            <td>2.883   </td> <td>55  </td>\n",
       "        </tr>\n",
       "        <tr>\n",
       "            <td>4.7     </td> <td>88  </td>\n",
       "        </tr>\n",
       "        <tr>\n",
       "            <td>3.6     </td> <td>85  </td>\n",
       "        </tr>\n",
       "        <tr>\n",
       "            <td>1.95    </td> <td>51  </td>\n",
       "        </tr>\n",
       "        <tr>\n",
       "            <td>4.35    </td> <td>85  </td>\n",
       "        </tr>\n",
       "    </tbody>\n",
       "</table>\n",
       "<p>... (262 rows omitted)</p>"
      ],
      "text/plain": [
       "duration | wait\n",
       "3.6      | 79\n",
       "1.8      | 54\n",
       "3.333    | 74\n",
       "2.283    | 62\n",
       "4.533    | 85\n",
       "2.883    | 55\n",
       "4.7      | 88\n",
       "3.6      | 85\n",
       "1.95     | 51\n",
       "4.35     | 85\n",
       "... (262 rows omitted)"
      ]
     },
     "execution_count": 11,
     "metadata": {},
     "output_type": "execute_result"
    }
   ],
   "source": [
    "old_faithful = Table.read_table('faithful.csv')\n",
    "old_faithful"
   ]
  },
  {
   "cell_type": "markdown",
   "metadata": {},
   "source": [
    "The following cell makes a residual plot for this new dataset."
   ]
  },
  {
   "cell_type": "code",
   "execution_count": 12,
   "metadata": {
    "scrolled": true
   },
   "outputs": [
    {
     "data": {
      "image/png": "[encoded data removed]",
      "text/plain": [
       "<Figure size 360x360 with 1 Axes>"
      ]
     },
     "metadata": {},
     "output_type": "display_data"
    }
   ],
   "source": [
    "Table().with_columns('Residual', residuals(old_faithful), 'Duration', old_faithful.column('duration')).scatter('Duration')"
   ]
  },
  {
   "cell_type": "markdown",
   "metadata": {},
   "source": [
    "<div class=\"hide\">\\pagebreak</div>\n",
    "\n",
    "#### Question 6\n",
    "\n",
    "Repeat the procedure from Question 5 to find the standard deviation of the residuals for the `old_faithful` dataset."
   ]
  },
  {
   "cell_type": "code",
   "execution_count": 13,
   "metadata": {
    "deletable": false
   },
   "outputs": [
    {
     "name": "stdout",
     "output_type": "stream",
     "text": [
      "Residual SD: 5.892226635893954\n",
      "Residual SD from the formula: 5.892226635893948\n"
     ]
    }
   ],
   "source": [
    "r = np.average(standard_units(old_faithful.column(0))*standard_units(old_faithful.column(1)))\n",
    "faithful_residual_sd = np.std(residuals(old_faithful))\n",
    "faithful_residual_sd_from_formula = np.sqrt(1-(r**2))*np.std(old_faithful.column(1))\n",
    "\n",
    "print(\"Residual SD: {0}\".format(faithful_residual_sd))\n",
    "print(\"Residual SD from the formula: {0}\".format(faithful_residual_sd_from_formula))"
   ]
  },
  {
   "cell_type": "code",
   "execution_count": 14,
   "metadata": {
    "deletable": false
   },
   "outputs": [
    {
     "name": "stdout",
     "output_type": "stream",
     "text": [
      "~~~~~~~~~~~~~~~~~~~~~~~~~~~~~~~~~~~~~~~~~~~~~~~~~~~~~~~~~~~~~~~~~~~~~\n",
      "Running tests\n",
      "\n",
      "---------------------------------------------------------------------\n",
      "Test summary\n",
      "    Passed: 1\n",
      "    Failed: 0\n",
      "[ooooooooook] 100.0% passed\n",
      "\n"
     ]
    },
    {
     "data": {
      "application/javascript": [
       "IPython.notebook.save_checkpoint();"
      ],
      "text/plain": [
       "<IPython.core.display.Javascript object>"
      ]
     },
     "metadata": {},
     "output_type": "display_data"
    },
    {
     "data": {
      "application/javascript": [
       "IPython.notebook.save_notebook();"
      ],
      "text/plain": [
       "<IPython.core.display.Javascript object>"
      ]
     },
     "metadata": {},
     "output_type": "display_data"
    },
    {
     "name": "stdout",
     "output_type": "stream",
     "text": [
      "Saving notebook... Saved 'hw11.ipynb'.\n",
      "Backup... 100% complete\n",
      "Backup successful for user: emilyxu@berkeley.edu\n",
      "URL: https://okpy.org/cal/data8/fa18/hw11/backups/Ro38xz\n",
      "NOTE: this is only a backup. To submit your assignment, use:\n",
      "\tpython3 ok --submit\n",
      "\n"
     ]
    }
   ],
   "source": [
    "_ = ok.grade('q1_6')\n",
    "_ = ok.backup()"
   ]
  },
  {
   "cell_type": "markdown",
   "metadata": {},
   "source": [
    "## 2. Finding the Least Squares Regression Line\n"
   ]
  },
  {
   "cell_type": "markdown",
   "metadata": {},
   "source": [
    "In this exercise, you'll work with a small invented data set.  Run the next cell to generate the dataset `d` and see a scatter plot."
   ]
  },
  {
   "cell_type": "code",
   "execution_count": 15,
   "metadata": {},
   "outputs": [
    {
     "data": {
      "image/png": "[encoded data removed]",
      "text/plain": [
       "<Figure size 360x360 with 1 Axes>"
      ]
     },
     "metadata": {},
     "output_type": "display_data"
    }
   ],
   "source": [
    "d = Table().with_columns(\n",
    "    'x', make_array(0,  1,  2,  3,  4),\n",
    "    'y', make_array(1, .5, -1,  2, -3))\n",
    "d.scatter('x')"
   ]
  },
  {
   "cell_type": "markdown",
   "metadata": {},
   "source": [
    "\n",
    "#### Question 1 (Ungraded, but you'll need the result later)\n",
    "Running the cell below will generate sliders that control the slope and intercept of a line through the scatter plot.  When you adjust a slider, the line will move.\n",
    "\n",
    "By moving the line around, make your best guess at the least-squares regression line.  (It's okay if your line isn't exactly right, as long as it's reasonable.)\n",
    "\n",
    "**Note:** Python will probably take about a second to redraw the plot each time you adjust the slider.  We suggest clicking the place on the slider you want to try and waiting for the plot to be drawn; dragging the slider handle around will cause a long lag."
   ]
  },
  {
   "cell_type": "code",
   "execution_count": 16,
   "metadata": {},
   "outputs": [
    {
     "data": {
      "application/vnd.jupyter.widget-view+json": {
       "model_id": "2d6f7a4e32e44d039ea26e6601790e9c",
       "version_major": 2,
       "version_minor": 0
      },
      "text/plain": [
       "interactive(children=(FloatSlider(value=0.0, description='slope', max=4.0, min=-4.0), FloatSlider(value=0.0, d…"
      ]
     },
     "metadata": {},
     "output_type": "display_data"
    }
   ],
   "source": [
    "def plot_line(slope, intercept):\n",
    "    plt.figure(figsize=(5,5))\n",
    "    \n",
    "    endpoints = make_array(-2, 7)\n",
    "    p = plt.plot(endpoints, slope*endpoints + intercept, color='orange', label='Proposed line')\n",
    "    \n",
    "    plt.scatter(d.column('x'), d.column('y'), color='blue', label='Points')\n",
    "    \n",
    "    plt.xlim(-4, 8)\n",
    "    plt.ylim(-6, 6)\n",
    "    plt.gca().set_aspect('equal', adjustable='box')\n",
    "    \n",
    "    plt.legend(bbox_to_anchor=(1.8, .8))\n",
    "    plt.show()\n",
    "\n",
    "interact(plot_line, slope=widgets.FloatSlider(min=-4, max=4, step=.1), intercept=widgets.FloatSlider(min=-4, max=4, step=.1));"
   ]
  },
  {
   "cell_type": "markdown",
   "metadata": {},
   "source": [
    "<div class=\"hide\">\\pagebreak</div>\n",
    "\n",
    "You can probably find a reasonable-looking line by just eyeballing it.  But remember: the least-squares regression line minimizes the mean of the squared errors made by the line for each point.  Your eye might not be able to judge squared errors very well.\n",
    "\n",
    "#### A note on mean and total squared error\n",
    "\n",
    "It is common to think of the least-squares line as the line with the least *mean* squared error (or the square root of the mean squared error), as the textbook does.\n",
    "\n",
    "But it turns out that it doesn't matter whether you minimize the mean squared error or the *total* squared error.  You'll get the same best line in either case.\n",
    "\n",
    "That's because the total squared error is just the mean squared error multipled by the number of points (`d.num_rows`).  So if one line gets a better total squared error than another line, then it also gets a better mean squared error.  In particular, the line with the smallest total squared error is also better than every other line in terms of mean squared error.  That makes it the least squares line.\n",
    "\n",
    "**tl; dr:** Minimizing the mean squared error minimizes the total squared error as well."
   ]
  },
  {
   "cell_type": "markdown",
   "metadata": {
    "collapsed": true
   },
   "source": [
    "#### Question 2 (Ungraded, but you'll need the result later)\n",
    "The next cell produces a more useful plot.  Use it to find a line that's closer to the least-squares regression line, keeping the above note in mind."
   ]
  },
  {
   "cell_type": "code",
   "execution_count": 17,
   "metadata": {},
   "outputs": [
    {
     "data": {
      "application/vnd.jupyter.widget-view+json": {
       "model_id": "766912eeaf514fc2a218b6845fb85df8",
       "version_major": 2,
       "version_minor": 0
      },
      "text/plain": [
       "interactive(children=(FloatSlider(value=0.0, description='slope', max=4.0, min=-4.0), FloatSlider(value=0.0, d…"
      ]
     },
     "metadata": {},
     "output_type": "display_data"
    }
   ],
   "source": [
    "def plot_line_and_errors(slope, intercept):\n",
    "    plt.figure(figsize=(5,5))\n",
    "    points = make_array(-2, 7)\n",
    "    p = plt.plot(points, slope*points + intercept, color='orange', label='Proposed line')\n",
    "    ax = p[0].axes\n",
    "    \n",
    "    predicted_ys = slope*d.column('x') + intercept\n",
    "    diffs = predicted_ys - d.column('y')\n",
    "    for i in np.arange(d.num_rows):\n",
    "        x = d.column('x').item(i)\n",
    "        y = d.column('y').item(i)\n",
    "        diff = diffs.item(i)\n",
    "        \n",
    "        if diff > 0:\n",
    "            bottom_left_x = x\n",
    "            bottom_left_y = y\n",
    "        else:\n",
    "            bottom_left_x = x + diff\n",
    "            bottom_left_y = y + diff\n",
    "        \n",
    "        ax.add_patch(patches.Rectangle(make_array(bottom_left_x, bottom_left_y), abs(diff), abs(diff), color='red', alpha=.3, label=('Squared error' if i == 0 else None)))\n",
    "        plt.plot(make_array(x, x), make_array(y, y + diff), color='red', alpha=.6, label=('Error' if i == 0 else None))\n",
    "    \n",
    "    plt.scatter(d.column('x'), d.column('y'), color='blue', label='Points')\n",
    "    \n",
    "    plt.xlim(-4, 8)\n",
    "    plt.ylim(-6, 6)\n",
    "    plt.gca().set_aspect('equal', adjustable='box')\n",
    "    \n",
    "    plt.legend(bbox_to_anchor=(1.8, .8))\n",
    "    plt.show()\n",
    "\n",
    "interact(plot_line_and_errors, slope=widgets.FloatSlider(min=-4, max=4, step=.1), intercept=widgets.FloatSlider(min=-4, max=4, step=.1));"
   ]
  },
  {
   "cell_type": "markdown",
   "metadata": {},
   "source": [
    "#### Question 3\n",
    "Describe the visual criterion you used to find a line in question 2. How did you judge whether one line was better than another? \n",
    "\n",
    "For example, a possible (but incorrect) answer is, \"I tried to make the red line for the bottom-right point as small as possible.\""
   ]
  },
  {
   "cell_type": "markdown",
   "metadata": {
    "deletable": false,
    "manual_problem_id": "least_squares_3"
   },
   "source": [
    "I tried to minimize the squared error between all the points. Of course, the point around (3, 2) had the largest squared error but there wasn't really any way to get around that. I tried to make sure most of the points had the smallest squared error exclusing (3,2)."
   ]
  },
  {
   "cell_type": "markdown",
   "metadata": {},
   "source": [
    "#### Question 4\n",
    "We can say that a point influences the line by how much the line would move if the point were removed from the data set. Does the outlier at (3, 2) have more or less influence than any other point on the resulting best-fit line? \n",
    "\n",
    "Assign `more_influence` to `True` if the outlier (3,2) has more influence than any other point on the best-fit line, or `False` if it does not."
   ]
  },
  {
   "cell_type": "code",
   "execution_count": 18,
   "metadata": {
    "deletable": false
   },
   "outputs": [],
   "source": [
    "more_influence = True"
   ]
  },
  {
   "cell_type": "code",
   "execution_count": 19,
   "metadata": {
    "deletable": false
   },
   "outputs": [
    {
     "name": "stdout",
     "output_type": "stream",
     "text": [
      "~~~~~~~~~~~~~~~~~~~~~~~~~~~~~~~~~~~~~~~~~~~~~~~~~~~~~~~~~~~~~~~~~~~~~\n",
      "Running tests\n",
      "\n",
      "---------------------------------------------------------------------\n",
      "Test summary\n",
      "    Passed: 1\n",
      "    Failed: 0\n",
      "[ooooooooook] 100.0% passed\n",
      "\n"
     ]
    },
    {
     "data": {
      "application/javascript": [
       "IPython.notebook.save_checkpoint();"
      ],
      "text/plain": [
       "<IPython.core.display.Javascript object>"
      ]
     },
     "metadata": {},
     "output_type": "display_data"
    },
    {
     "data": {
      "application/javascript": [
       "IPython.notebook.save_notebook();"
      ],
      "text/plain": [
       "<IPython.core.display.Javascript object>"
      ]
     },
     "metadata": {},
     "output_type": "display_data"
    },
    {
     "name": "stdout",
     "output_type": "stream",
     "text": [
      "Saving notebook... Saved 'hw11.ipynb'.\n",
      "Backup... 100% complete\n",
      "Backup successful for user: emilyxu@berkeley.edu\n",
      "URL: https://okpy.org/cal/data8/fa18/hw11/backups/voGmVL\n",
      "NOTE: this is only a backup. To submit your assignment, use:\n",
      "\tpython3 ok --submit\n",
      "\n"
     ]
    }
   ],
   "source": [
    "_ = ok.grade('q2_4')\n",
    "_ = ok.backup()"
   ]
  },
  {
   "cell_type": "markdown",
   "metadata": {},
   "source": [
    "Now, let's have Python find this line for us.  When we use `minimize`, Python goes through a process similar to the one you might have used in question 2.\n",
    "\n",
    "But Python can't look at a plot that displays errors!  Instead, we tell it how to find the total squared error for a line with a given slope and intercept."
   ]
  },
  {
   "cell_type": "markdown",
   "metadata": {},
   "source": [
    "#### Question 5\n",
    "Define a function called `total_squared_error`.  It should take two numbers as arguments:\n",
    "\n",
    "1. the slope of some potential line\n",
    "2. the intercept of some potential line\n",
    "\n",
    "It should return the total squared error when we use that line to make predictions for the dataset `d`.\n",
    "\n",
    "Recall that `d` has two columns: _x_ and _y_."
   ]
  },
  {
   "cell_type": "code",
   "execution_count": 20,
   "metadata": {},
   "outputs": [
    {
     "data": {
      "text/html": [
       "<table border=\"1\" class=\"dataframe\">\n",
       "    <thead>\n",
       "        <tr>\n",
       "            <th>x</th> <th>y</th>\n",
       "        </tr>\n",
       "    </thead>\n",
       "    <tbody>\n",
       "        <tr>\n",
       "            <td>0   </td> <td>1   </td>\n",
       "        </tr>\n",
       "        <tr>\n",
       "            <td>1   </td> <td>0.5 </td>\n",
       "        </tr>\n",
       "        <tr>\n",
       "            <td>2   </td> <td>-1  </td>\n",
       "        </tr>\n",
       "        <tr>\n",
       "            <td>3   </td> <td>2   </td>\n",
       "        </tr>\n",
       "        <tr>\n",
       "            <td>4   </td> <td>-3  </td>\n",
       "        </tr>\n",
       "    </tbody>\n",
       "</table>"
      ],
      "text/plain": [
       "x    | y\n",
       "0    | 1\n",
       "1    | 0.5\n",
       "2    | -1\n",
       "3    | 2\n",
       "4    | -3"
      ]
     },
     "execution_count": 20,
     "metadata": {},
     "output_type": "execute_result"
    }
   ],
   "source": [
    "d"
   ]
  },
  {
   "cell_type": "code",
   "execution_count": 51,
   "metadata": {
    "deletable": false
   },
   "outputs": [],
   "source": [
    "def total_squared_error(slope, intercept):\n",
    "    actual = d.column(1)                               # the actual Y values\n",
    "    predictions = d.column(0)*slope + intercept        # And the predicted y value.\n",
    "    residual = actual - predictions\n",
    "    return sum(residual**2)"
   ]
  },
  {
   "cell_type": "code",
   "execution_count": 52,
   "metadata": {},
   "outputs": [
    {
     "data": {
      "text/plain": [
       "122.25"
      ]
     },
     "execution_count": 52,
     "metadata": {},
     "output_type": "execute_result"
    }
   ],
   "source": [
    "total_squared_error(1, 2)"
   ]
  },
  {
   "cell_type": "code",
   "execution_count": 54,
   "metadata": {
    "deletable": false,
    "scrolled": true
   },
   "outputs": [
    {
     "name": "stdout",
     "output_type": "stream",
     "text": [
      "~~~~~~~~~~~~~~~~~~~~~~~~~~~~~~~~~~~~~~~~~~~~~~~~~~~~~~~~~~~~~~~~~~~~~\n",
      "Running tests\n",
      "\n",
      "---------------------------------------------------------------------\n",
      "Test summary\n",
      "    Passed: 1\n",
      "    Failed: 0\n",
      "[ooooooooook] 100.0% passed\n",
      "\n"
     ]
    },
    {
     "data": {
      "application/javascript": [
       "IPython.notebook.save_checkpoint();"
      ],
      "text/plain": [
       "<IPython.core.display.Javascript object>"
      ]
     },
     "metadata": {},
     "output_type": "display_data"
    },
    {
     "data": {
      "application/javascript": [
       "IPython.notebook.save_notebook();"
      ],
      "text/plain": [
       "<IPython.core.display.Javascript object>"
      ]
     },
     "metadata": {},
     "output_type": "display_data"
    },
    {
     "name": "stdout",
     "output_type": "stream",
     "text": [
      "Saving notebook... Saved 'hw11.ipynb'.\n",
      "Backup... 100% complete\n",
      "Backup successful for user: emilyxu@berkeley.edu\n",
      "URL: https://okpy.org/cal/data8/fa18/hw11/backups/1rJV5m\n",
      "NOTE: this is only a backup. To submit your assignment, use:\n",
      "\tpython3 ok --submit\n",
      "\n"
     ]
    }
   ],
   "source": [
    "_ = ok.grade('q2_5')\n",
    "_ = ok.backup()"
   ]
  },
  {
   "cell_type": "markdown",
   "metadata": {},
   "source": [
    "#### Question 6\n",
    "What is the total squared error for the line you found by \"eyeballing\" the errors in Question 1?  What about Question 2, where you made a guess that was \"aided\" by a visualization of the squared error?  (It's okay if the error went up, but for many students, the error will go down when using the visual aid.)"
   ]
  },
  {
   "cell_type": "code",
   "execution_count": 55,
   "metadata": {
    "deletable": false,
    "for_assignment_type": "student",
    "manual_problem_id": "least_squares_6"
   },
   "outputs": [
    {
     "name": "stdout",
     "output_type": "stream",
     "text": [
      "Eyeballed error: 12.799999999999999 \n",
      "Aided error: 11.650000000000002\n"
     ]
    }
   ],
   "source": [
    "eyeballed_error = total_squared_error(-0.6, 0.5)\n",
    "aided_error = total_squared_error(-0.9, 1.80)\n",
    "print(\"Eyeballed error:\", eyeballed_error, \"\\nAided error:\", aided_error)"
   ]
  },
  {
   "cell_type": "code",
   "execution_count": 56,
   "metadata": {
    "deletable": false
   },
   "outputs": [
    {
     "name": "stdout",
     "output_type": "stream",
     "text": [
      "~~~~~~~~~~~~~~~~~~~~~~~~~~~~~~~~~~~~~~~~~~~~~~~~~~~~~~~~~~~~~~~~~~~~~\n",
      "Running tests\n",
      "\n",
      "---------------------------------------------------------------------\n",
      "Test summary\n",
      "    Passed: 1\n",
      "    Failed: 0\n",
      "[ooooooooook] 100.0% passed\n",
      "\n"
     ]
    },
    {
     "data": {
      "application/javascript": [
       "IPython.notebook.save_checkpoint();"
      ],
      "text/plain": [
       "<IPython.core.display.Javascript object>"
      ]
     },
     "metadata": {},
     "output_type": "display_data"
    },
    {
     "data": {
      "application/javascript": [
       "IPython.notebook.save_notebook();"
      ],
      "text/plain": [
       "<IPython.core.display.Javascript object>"
      ]
     },
     "metadata": {},
     "output_type": "display_data"
    },
    {
     "name": "stdout",
     "output_type": "stream",
     "text": [
      "Saving notebook... Saved 'hw11.ipynb'.\n",
      "Backup... 100% complete\n",
      "Backup successful for user: emilyxu@berkeley.edu\n",
      "URL: https://okpy.org/cal/data8/fa18/hw11/backups/kZq69N\n",
      "NOTE: this is only a backup. To submit your assignment, use:\n",
      "\tpython3 ok --submit\n",
      "\n"
     ]
    }
   ],
   "source": [
    "_ = ok.grade('q2_6')\n",
    "_ = ok.backup()"
   ]
  },
  {
   "cell_type": "markdown",
   "metadata": {},
   "source": [
    "#### Question 7\n",
    "Use `minimize` to find the slope and intercept for the line that minimizes the total squared error. This is the definition of a least-squares regression line. \n",
    "\n",
    "**Note:** `minimize` will return a single array containing the slope as the first element and intercept as the second. Read more of its documentation [here](http://data8.org/datascience/util.html?highlight=minimize#datascience.util.minimize) or an example of its use [here](https://www.inferentialthinking.com/chapters/15/3/method-of-least-squares.html)."
   ]
  },
  {
   "cell_type": "code",
   "execution_count": 60,
   "metadata": {},
   "outputs": [
    {
     "data": {
      "text/plain": [
       "array([-0.64983742,  1.19886196])"
      ]
     },
     "execution_count": 60,
     "metadata": {},
     "output_type": "execute_result"
    }
   ],
   "source": [
    "minimize(total_squared_error)"
   ]
  },
  {
   "cell_type": "code",
   "execution_count": 62,
   "metadata": {
    "deletable": false,
    "for_assignment_type": "student",
    "manual_problem_id": "minimize_slope_intercept"
   },
   "outputs": [
    {
     "name": "stdout",
     "output_type": "stream",
     "text": [
      "Least-squares regression line: predicted_y = -0.6498374231570391 * x +  1.1988619620992735\n"
     ]
    }
   ],
   "source": [
    "# The staff solution used 1 line of code above here.\n",
    "slope_from_minimize = minimize(total_squared_error).item(0)\n",
    "intercept_from_minimize = minimize(total_squared_error).item(1)\n",
    "print(\"Least-squares regression line: predicted_y =\",\n",
    "      slope_from_minimize,\n",
    "      \"* x + \",\n",
    "      intercept_from_minimize)\n"
   ]
  },
  {
   "cell_type": "code",
   "execution_count": 63,
   "metadata": {
    "deletable": false
   },
   "outputs": [
    {
     "name": "stdout",
     "output_type": "stream",
     "text": [
      "~~~~~~~~~~~~~~~~~~~~~~~~~~~~~~~~~~~~~~~~~~~~~~~~~~~~~~~~~~~~~~~~~~~~~\n",
      "Running tests\n",
      "\n",
      "---------------------------------------------------------------------\n",
      "Test summary\n",
      "    Passed: 1\n",
      "    Failed: 0\n",
      "[ooooooooook] 100.0% passed\n",
      "\n"
     ]
    },
    {
     "data": {
      "application/javascript": [
       "IPython.notebook.save_checkpoint();"
      ],
      "text/plain": [
       "<IPython.core.display.Javascript object>"
      ]
     },
     "metadata": {},
     "output_type": "display_data"
    },
    {
     "data": {
      "application/javascript": [
       "IPython.notebook.save_notebook();"
      ],
      "text/plain": [
       "<IPython.core.display.Javascript object>"
      ]
     },
     "metadata": {},
     "output_type": "display_data"
    },
    {
     "name": "stdout",
     "output_type": "stream",
     "text": [
      "Saving notebook... Saved 'hw11.ipynb'.\n",
      "Backup... 100% complete\n",
      "Backup successful for user: emilyxu@berkeley.edu\n",
      "URL: https://okpy.org/cal/data8/fa18/hw11/backups/Xo8krm\n",
      "NOTE: this is only a backup. To submit your assignment, use:\n",
      "\tpython3 ok --submit\n",
      "\n"
     ]
    }
   ],
   "source": [
    "_ = ok.grade('q2_7')\n",
    "_ = ok.backup()"
   ]
  },
  {
   "cell_type": "markdown",
   "metadata": {},
   "source": [
    "#### Question 8\n",
    "What is the total squared error for the least-squares regression line that you found?"
   ]
  },
  {
   "cell_type": "code",
   "execution_count": 64,
   "metadata": {
    "deletable": false
   },
   "outputs": [
    {
     "data": {
      "text/plain": [
       "10.975003568216033"
      ]
     },
     "execution_count": 64,
     "metadata": {},
     "output_type": "execute_result"
    }
   ],
   "source": [
    "best_total_squared_error = total_squared_error(slope_from_minimize, intercept_from_minimize)\n",
    "best_total_squared_error"
   ]
  },
  {
   "cell_type": "code",
   "execution_count": 65,
   "metadata": {
    "deletable": false,
    "scrolled": true
   },
   "outputs": [
    {
     "name": "stdout",
     "output_type": "stream",
     "text": [
      "~~~~~~~~~~~~~~~~~~~~~~~~~~~~~~~~~~~~~~~~~~~~~~~~~~~~~~~~~~~~~~~~~~~~~\n",
      "Running tests\n",
      "\n",
      "---------------------------------------------------------------------\n",
      "Test summary\n",
      "    Passed: 1\n",
      "    Failed: 0\n",
      "[ooooooooook] 100.0% passed\n",
      "\n"
     ]
    },
    {
     "data": {
      "application/javascript": [
       "IPython.notebook.save_checkpoint();"
      ],
      "text/plain": [
       "<IPython.core.display.Javascript object>"
      ]
     },
     "metadata": {},
     "output_type": "display_data"
    },
    {
     "data": {
      "application/javascript": [
       "IPython.notebook.save_notebook();"
      ],
      "text/plain": [
       "<IPython.core.display.Javascript object>"
      ]
     },
     "metadata": {},
     "output_type": "display_data"
    },
    {
     "name": "stdout",
     "output_type": "stream",
     "text": [
      "Saving notebook... Saved 'hw11.ipynb'.\n",
      "Backup... 100% complete\n",
      "Backup successful for user: emilyxu@berkeley.edu\n",
      "URL: https://okpy.org/cal/data8/fa18/hw11/backups/rRAMYw\n",
      "NOTE: this is only a backup. To submit your assignment, use:\n",
      "\tpython3 ok --submit\n",
      "\n"
     ]
    }
   ],
   "source": [
    "_ = ok.grade('q2_8')\n",
    "_ = ok.backup()"
   ]
  },
  {
   "cell_type": "markdown",
   "metadata": {},
   "source": [
    "Finally, run the following cell to plot this \"best fit\" line and its errors:"
   ]
  },
  {
   "cell_type": "code",
   "execution_count": 66,
   "metadata": {},
   "outputs": [
    {
     "data": {
      "image/png": "[encoded data removed]",
      "text/plain": [
       "<Figure size 360x360 with 1 Axes>"
      ]
     },
     "metadata": {},
     "output_type": "display_data"
    }
   ],
   "source": [
    "plot_line_and_errors(slope_from_minimize, intercept_from_minimize)"
   ]
  },
  {
   "cell_type": "markdown",
   "metadata": {},
   "source": [
    "## 3. Quantifying Sampling Errors in Regression\n"
   ]
  },
  {
   "cell_type": "markdown",
   "metadata": {},
   "source": [
    "Previously, in this class we've used confidence intervals to quantify uncertainty about estimates as well as to test predictions. To run a hypothesis test using a confidence interval, we use the following procedure:\n",
    "1. Formulate a null hypothesis\n",
    "2. Formulate an alternative hypothesis \n",
    "3. Choose a test statistic and compute the observed value for the test statistic\n",
    "4. Bootstrap, finding a value of the test stat for each resample\n",
    "5. Generate a 95% confidence interval from those resampled test stats\n",
    "6. Based on whether your value is in an interval, make a conclusion\n",
    "\n",
    "Another thing we've covered recently is the use of linear regression to make predictions, using correlated variables. An example is, say, predicting the height of children based on the heights of their parents.\n",
    "\n",
    "We can combine these two topics together in order to make even more powerful statements about our population given just a sample as before. We can use the following techniques to do so:\n",
    "- Bootstrapped interval for the true slope\n",
    "- Bootstrapped prediction interval for y (given a particular value of x)\n",
    "\n",
    "This homework further explores these two advanced methods."
   ]
  },
  {
   "cell_type": "markdown",
   "metadata": {},
   "source": [
    "Recall the Old Faithful dataset from our lab on regression. The table contains two pieces of information about each eruption of the Old Faithful geyser in Yellowstone National Park:\n",
    "1. The duration of the eruption, in minutes.\n",
    "2. The time between this eruption and the next eruption (the \"waiting time\"), in minutes.\n",
    "\n",
    "The dataset is plotted below along with its line of best fit."
   ]
  },
  {
   "cell_type": "code",
   "execution_count": 24,
   "metadata": {
    "ExecuteTime": {
     "end_time": "2018-04-11T12:05:50.503658Z",
     "start_time": "2018-04-11T12:05:50.340244Z"
    }
   },
   "outputs": [
    {
     "data": {
      "text/html": [
       "<table border=\"1\" class=\"dataframe\">\n",
       "    <thead>\n",
       "        <tr>\n",
       "            <th>duration</th> <th>wait</th>\n",
       "        </tr>\n",
       "    </thead>\n",
       "    <tbody>\n",
       "        <tr>\n",
       "            <td>3.6     </td> <td>79  </td>\n",
       "        </tr>\n",
       "        <tr>\n",
       "            <td>1.8     </td> <td>54  </td>\n",
       "        </tr>\n",
       "        <tr>\n",
       "            <td>3.333   </td> <td>74  </td>\n",
       "        </tr>\n",
       "        <tr>\n",
       "            <td>2.283   </td> <td>62  </td>\n",
       "        </tr>\n",
       "        <tr>\n",
       "            <td>4.533   </td> <td>85  </td>\n",
       "        </tr>\n",
       "        <tr>\n",
       "            <td>2.883   </td> <td>55  </td>\n",
       "        </tr>\n",
       "        <tr>\n",
       "            <td>4.7     </td> <td>88  </td>\n",
       "        </tr>\n",
       "        <tr>\n",
       "            <td>3.6     </td> <td>85  </td>\n",
       "        </tr>\n",
       "        <tr>\n",
       "            <td>1.95    </td> <td>51  </td>\n",
       "        </tr>\n",
       "        <tr>\n",
       "            <td>4.35    </td> <td>85  </td>\n",
       "        </tr>\n",
       "    </tbody>\n",
       "</table>\n",
       "<p>... (262 rows omitted)</p>"
      ],
      "text/plain": [
       "duration | wait\n",
       "3.6      | 79\n",
       "1.8      | 54\n",
       "3.333    | 74\n",
       "2.283    | 62\n",
       "4.533    | 85\n",
       "2.883    | 55\n",
       "4.7      | 88\n",
       "3.6      | 85\n",
       "1.95     | 51\n",
       "4.35     | 85\n",
       "... (262 rows omitted)"
      ]
     },
     "execution_count": 24,
     "metadata": {},
     "output_type": "execute_result"
    },
    {
     "data": {
      "image/png": "[encoded data removed]",
      "text/plain": [
       "<Figure size 360x360 with 1 Axes>"
      ]
     },
     "metadata": {},
     "output_type": "display_data"
    }
   ],
   "source": [
    "faithful = Table.read_table('faithful_inference.csv')\n",
    "faithful.scatter('duration', fit_line=True)\n",
    "faithful"
   ]
  },
  {
   "cell_type": "markdown",
   "metadata": {},
   "source": [
    "### Finding the Bootstrap Confidence Interval for the True Slope\n",
    "\n",
    "Last time we looked at this dataset, we noticed the apparent linear relationship between duration and wait, and we decided to use regression to predict wait in terms of duration. However, our data are just a sample of all the eruptions that have happened at Old Faithful. As we know, relationships can appear in a sample that don't really exist in the population from which the sample was taken."
   ]
  },
  {
   "cell_type": "markdown",
   "metadata": {},
   "source": [
    "#### Question 1\n",
    "\n",
    "Before we move forward using our linear model, we would like to know whether or not there truly exists a relationship between duration and wait time. If there is no relationship between the two, then we'd expect a correlation of 0, which would give us a slope of 0. Now, write in null and alternative hypotheses, based on your knowledge of hypothesis tests you've conducted in the past."
   ]
  },
  {
   "cell_type": "markdown",
   "metadata": {
    "deletable": false,
    "for_assignment_type": "student",
    "manual_problem_id": "slope_inference_1"
   },
   "source": [
    "- **Null Hypothesis:**  There is no relationship between duration and wait time. The expected correlation is 0, and the slope is therefore 0.\n",
    "- **Alternate Hypothesis:** There is a relationship between duration and wait time. The expected correlation is not 0, and the slope is not 0."
   ]
  },
  {
   "cell_type": "markdown",
   "metadata": {},
   "source": [
    "We will use the method of confidence intervals to test this hypothesis.\n",
    "\n",
    "<div class=\"hide\">\\pagebreak</div>\n",
    "\n",
    "#### Question 2\n",
    "\n",
    "We'll warm up by implementing some familiar functions. You may use these functions throughout this assignment. Start by defining these two functions:\n",
    "\n",
    "1. `standard_units` should take in an array of numbers and return an array containing those numbers converted to standard units.\n",
    "2. `correlation` should take in a table with 2 columns and return the correlation between these columns. Hint: you may want to use the `standard_units` function you defined above."
   ]
  },
  {
   "cell_type": "code",
   "execution_count": 25,
   "metadata": {
    "ExecuteTime": {
     "end_time": "2018-04-11T12:05:50.894154Z",
     "start_time": "2018-04-11T12:05:50.889145Z"
    },
    "deletable": false
   },
   "outputs": [],
   "source": [
    "def standard_units(arr):\n",
    "    return (arr - np.mean(arr)) / np.std(arr)\n",
    "\n",
    "def correlation(tbl):\n",
    "    return np.average(standard_units(tbl.column(0))*standard_units(tbl.column(1)))"
   ]
  },
  {
   "cell_type": "code",
   "execution_count": 26,
   "metadata": {
    "ExecuteTime": {
     "end_time": "2018-04-11T12:05:51.170309Z",
     "start_time": "2018-04-11T12:05:51.019905Z"
    },
    "deletable": false
   },
   "outputs": [
    {
     "name": "stdout",
     "output_type": "stream",
     "text": [
      "~~~~~~~~~~~~~~~~~~~~~~~~~~~~~~~~~~~~~~~~~~~~~~~~~~~~~~~~~~~~~~~~~~~~~\n",
      "Running tests\n",
      "\n",
      "---------------------------------------------------------------------\n",
      "Test summary\n",
      "    Passed: 1\n",
      "    Failed: 0\n",
      "[ooooooooook] 100.0% passed\n",
      "\n"
     ]
    },
    {
     "data": {
      "application/javascript": [
       "IPython.notebook.save_checkpoint();"
      ],
      "text/plain": [
       "<IPython.core.display.Javascript object>"
      ]
     },
     "metadata": {},
     "output_type": "display_data"
    },
    {
     "data": {
      "application/javascript": [
       "IPython.notebook.save_notebook();"
      ],
      "text/plain": [
       "<IPython.core.display.Javascript object>"
      ]
     },
     "metadata": {},
     "output_type": "display_data"
    },
    {
     "name": "stdout",
     "output_type": "stream",
     "text": [
      "Saving notebook... Saved 'hw11.ipynb'.\n",
      "Backup... 100% complete\n",
      "Backup successful for user: emilyxu@berkeley.edu\n",
      "URL: https://okpy.org/cal/data8/fa18/hw11/backups/G53w43\n",
      "NOTE: this is only a backup. To submit your assignment, use:\n",
      "\tpython3 ok --submit\n",
      "\n"
     ]
    }
   ],
   "source": [
    "_ = ok.grade('q3_2')\n",
    "_ = ok.backup()"
   ]
  },
  {
   "cell_type": "markdown",
   "metadata": {},
   "source": [
    "<div class=\"hide\">\\pagebreak</div>\n",
    "\n",
    "#### Question 3\n",
    "\n",
    "Using the functions you just implemented, create a function called `fit_line`.  It should take a table as its argument.  It should return an array containing the slope and intercept of the regression line that predicts the second column in the table using the first."
   ]
  },
  {
   "cell_type": "code",
   "execution_count": 27,
   "metadata": {
    "ExecuteTime": {
     "end_time": "2018-04-11T12:05:51.332907Z",
     "start_time": "2018-04-11T12:05:51.325888Z"
    },
    "deletable": false,
    "for_assignment_type": "student"
   },
   "outputs": [
    {
     "data": {
      "text/plain": [
       "array([10.7296414 , 33.47439702])"
      ]
     },
     "execution_count": 27,
     "metadata": {},
     "output_type": "execute_result"
    }
   ],
   "source": [
    "def fit_line(tbl):\n",
    "    r = correlation(tbl)\n",
    "    slope = r * (np.std(tbl.column(1))/ np.std(tbl.column(0)))\n",
    "    intercept = np.mean(tbl.column(1)) - slope*np.mean(tbl.column(0))\n",
    "    return make_array(slope, intercept)\n",
    "\n",
    "# This should compute the slope and intercept of the regression\n",
    "# line predicting wait time from duration in the faithful dataset.\n",
    "fit_line(faithful)"
   ]
  },
  {
   "cell_type": "code",
   "execution_count": 28,
   "metadata": {
    "ExecuteTime": {
     "end_time": "2018-04-11T12:05:51.754766Z",
     "start_time": "2018-04-11T12:05:51.624390Z"
    }
   },
   "outputs": [
    {
     "data": {
      "image/png": "[encoded data removed]",
      "text/plain": [
       "<Figure size 360x360 with 1 Axes>"
      ]
     },
     "metadata": {},
     "output_type": "display_data"
    }
   ],
   "source": [
    "# Ensure your fit_line function fits a reasonable line \n",
    "# to the data in faithful, using the plot below\n",
    "\n",
    "slope, intercept = fit_line(faithful)\n",
    "faithful.scatter(0)\n",
    "plt.plot([min(faithful[0]), max(faithful[0])], \n",
    "         [slope*min(faithful[0])+intercept, slope*max(faithful[0])+intercept])\n",
    "plt.show()"
   ]
  },
  {
   "cell_type": "code",
   "execution_count": 29,
   "metadata": {
    "ExecuteTime": {
     "end_time": "2018-04-11T12:05:51.916168Z",
     "start_time": "2018-04-11T12:05:51.777799Z"
    },
    "deletable": false,
    "scrolled": true
   },
   "outputs": [
    {
     "name": "stdout",
     "output_type": "stream",
     "text": [
      "~~~~~~~~~~~~~~~~~~~~~~~~~~~~~~~~~~~~~~~~~~~~~~~~~~~~~~~~~~~~~~~~~~~~~\n",
      "Running tests\n",
      "\n",
      "---------------------------------------------------------------------\n",
      "Test summary\n",
      "    Passed: 1\n",
      "    Failed: 0\n",
      "[ooooooooook] 100.0% passed\n",
      "\n"
     ]
    },
    {
     "data": {
      "application/javascript": [
       "IPython.notebook.save_checkpoint();"
      ],
      "text/plain": [
       "<IPython.core.display.Javascript object>"
      ]
     },
     "metadata": {},
     "output_type": "display_data"
    },
    {
     "data": {
      "application/javascript": [
       "IPython.notebook.save_notebook();"
      ],
      "text/plain": [
       "<IPython.core.display.Javascript object>"
      ]
     },
     "metadata": {},
     "output_type": "display_data"
    },
    {
     "name": "stdout",
     "output_type": "stream",
     "text": [
      "Saving notebook... Saved 'hw11.ipynb'.\n",
      "Backup... 100% complete\n",
      "Backup successful for user: emilyxu@berkeley.edu\n",
      "URL: https://okpy.org/cal/data8/fa18/hw11/backups/N9374N\n",
      "NOTE: this is only a backup. To submit your assignment, use:\n",
      "\tpython3 ok --submit\n",
      "\n"
     ]
    }
   ],
   "source": [
    "_ = ok.grade('q3_3')\n",
    "_ = ok.backup()"
   ]
  },
  {
   "cell_type": "markdown",
   "metadata": {},
   "source": [
    "Now we have all the tools we need in order to create a confidence interval quantifying our uncertainty about the true relationship between duration and wait time."
   ]
  },
  {
   "cell_type": "markdown",
   "metadata": {},
   "source": [
    "<div class=\"hide\">\\pagebreak</div>\n",
    "\n",
    "#### Question 4\n",
    "\n",
    "Use the bootstrap to compute 1000 resamples from our dataset. For each resample, compute the slope of the best fit line. Put these slopes in an array called `resample_slopes`, giving you the empirical distribution of regression line slopes in resamples. Plot a histogram of these slopes."
   ]
  },
  {
   "cell_type": "code",
   "execution_count": 30,
   "metadata": {},
   "outputs": [],
   "source": [
    "def resampled_slopes():\n",
    "    resample_slopes = make_array()\n",
    "    for i in np.arange(1000):\n",
    "        sampled_data = old_faithful.sample()\n",
    "        sampled_slope = fit_line(sampled_data).item(0)\n",
    "        resample_slopes = np.append(resample_slopes, sampled_slope)\n",
    "    return resample_slopes"
   ]
  },
  {
   "cell_type": "code",
   "execution_count": 31,
   "metadata": {
    "deletable": false,
    "for_assignment_type": "student",
    "scrolled": false
   },
   "outputs": [
    {
     "data": {
      "image/png": "[encoded data removed]",
      "text/plain": [
       "<Figure size 432x288 with 1 Axes>"
      ]
     },
     "metadata": {},
     "output_type": "display_data"
    }
   ],
   "source": [
    "Table().with_column('Bootstrapped Slopes', resampled_slopes()).hist()"
   ]
  },
  {
   "cell_type": "markdown",
   "metadata": {},
   "source": [
    "<div class=\"hide\">\\pagebreak</div>\n",
    "\n",
    "#### Question 5\n",
    "\n",
    "Use your resampled slopes to construct an approximate 95% confidence interval for the true value of the slope."
   ]
  },
  {
   "cell_type": "code",
   "execution_count": 32,
   "metadata": {
    "ExecuteTime": {
     "end_time": "2018-04-11T12:05:53.077324Z",
     "start_time": "2018-04-11T12:05:53.072310Z"
    },
    "deletable": false
   },
   "outputs": [
    {
     "name": "stdout",
     "output_type": "stream",
     "text": [
      "95% confidence interval for slope: [10.1323, 11.2995]\n"
     ]
    }
   ],
   "source": [
    "lower_end = percentile(2.5, resampled_slopes())\n",
    "upper_end = percentile(97.5, resampled_slopes())\n",
    "print(\"95% confidence interval for slope: [{:g}, {:g}]\".format(lower_end, upper_end))"
   ]
  },
  {
   "cell_type": "code",
   "execution_count": 33,
   "metadata": {
    "deletable": false
   },
   "outputs": [
    {
     "name": "stdout",
     "output_type": "stream",
     "text": [
      "~~~~~~~~~~~~~~~~~~~~~~~~~~~~~~~~~~~~~~~~~~~~~~~~~~~~~~~~~~~~~~~~~~~~~\n",
      "Running tests\n",
      "\n",
      "---------------------------------------------------------------------\n",
      "Test summary\n",
      "    Passed: 2\n",
      "    Failed: 0\n",
      "[ooooooooook] 100.0% passed\n",
      "\n"
     ]
    },
    {
     "data": {
      "application/javascript": [
       "IPython.notebook.save_checkpoint();"
      ],
      "text/plain": [
       "<IPython.core.display.Javascript object>"
      ]
     },
     "metadata": {},
     "output_type": "display_data"
    },
    {
     "data": {
      "application/javascript": [
       "IPython.notebook.save_notebook();"
      ],
      "text/plain": [
       "<IPython.core.display.Javascript object>"
      ]
     },
     "metadata": {},
     "output_type": "display_data"
    },
    {
     "name": "stdout",
     "output_type": "stream",
     "text": [
      "Saving notebook... Saved 'hw11.ipynb'.\n",
      "Backup... 100% complete\n",
      "Backup successful for user: emilyxu@berkeley.edu\n",
      "URL: https://okpy.org/cal/data8/fa18/hw11/backups/W73W3n\n",
      "NOTE: this is only a backup. To submit your assignment, use:\n",
      "\tpython3 ok --submit\n",
      "\n"
     ]
    }
   ],
   "source": [
    "_ = ok.grade('q3_5')\n",
    "_ = ok.backup()"
   ]
  },
  {
   "cell_type": "markdown",
   "metadata": {},
   "source": [
    "<div class=\"hide\">\\pagebreak</div>\n",
    "\n",
    "#### Question 6\n",
    "\n",
    "Based on your confidence interval, would you accept or reject the null hypothesis that the true slope is 0?  Why?  What P-value cutoff are you using?"
   ]
  },
  {
   "cell_type": "markdown",
   "metadata": {
    "deletable": false,
    "manual_problem_id": "slope_inference_6"
   },
   "source": [
    "I reject the null hypothesis. That is because my 95% confidence interval does not contain 0. The p-value cut off I am using is 0.05."
   ]
  },
  {
   "cell_type": "markdown",
   "metadata": {},
   "source": [
    "### Finding the Bootstrap Prediction Interval"
   ]
  },
  {
   "cell_type": "markdown",
   "metadata": {},
   "source": [
    "Suppose we're tourists at Yellowstone, and we'd like to know how long we'll have to wait for the next Old Faithful eruption.  We decide to use our regression line to make some predictions for the waiting times.  But just as we're uncertain about the slope of the true regression line, we're also uncertain about the predictions we'd make based on the true regression line."
   ]
  },
  {
   "cell_type": "markdown",
   "metadata": {},
   "source": [
    "<div class=\"hide\">\\pagebreak</div>\n",
    "\n",
    "#### Question 7\n",
    "\n",
    "Define the function `fitted_value`.  It should take 2 arguments:\n",
    "\n",
    "1. A table with 2 columns.  We'll be predicting the values in the second column using the first.\n",
    "2. A number, the value of the predictor variable for which we'd like to make a prediction.\n",
    "\n",
    "Make sure to use your `fit_line` function. "
   ]
  },
  {
   "cell_type": "code",
   "execution_count": 34,
   "metadata": {
    "ExecuteTime": {
     "end_time": "2018-04-11T12:05:53.768008Z",
     "start_time": "2018-04-11T12:05:53.763999Z"
    },
    "deletable": false,
    "for_assignment_type": "student"
   },
   "outputs": [
    {
     "data": {
      "text/plain": [
       "54.933679813020404"
      ]
     },
     "execution_count": 34,
     "metadata": {},
     "output_type": "execute_result"
    }
   ],
   "source": [
    "def fitted_value(table, given_x):\n",
    "    slope = fit_line(table).item(0)\n",
    "    intercept = fit_line(table).item(1)\n",
    "    predicted_values = (slope*given_x) + intercept\n",
    "    return predicted_values\n",
    "\n",
    "# Here's an example of how fitted_value is used.  This should\n",
    "# compute the prediction for the wait time of an eruption that lasts \n",
    "# two minutes .\n",
    "two_minutes_wait = fitted_value(faithful, 2)\n",
    "two_minutes_wait"
   ]
  },
  {
   "cell_type": "code",
   "execution_count": 35,
   "metadata": {
    "ExecuteTime": {
     "end_time": "2018-04-11T12:05:54.229924Z",
     "start_time": "2018-04-11T12:05:54.093546Z"
    },
    "deletable": false
   },
   "outputs": [
    {
     "name": "stdout",
     "output_type": "stream",
     "text": [
      "~~~~~~~~~~~~~~~~~~~~~~~~~~~~~~~~~~~~~~~~~~~~~~~~~~~~~~~~~~~~~~~~~~~~~\n",
      "Running tests\n",
      "\n",
      "---------------------------------------------------------------------\n",
      "Test summary\n",
      "    Passed: 1\n",
      "    Failed: 0\n",
      "[ooooooooook] 100.0% passed\n",
      "\n"
     ]
    },
    {
     "data": {
      "application/javascript": [
       "IPython.notebook.save_checkpoint();"
      ],
      "text/plain": [
       "<IPython.core.display.Javascript object>"
      ]
     },
     "metadata": {},
     "output_type": "display_data"
    },
    {
     "data": {
      "application/javascript": [
       "IPython.notebook.save_notebook();"
      ],
      "text/plain": [
       "<IPython.core.display.Javascript object>"
      ]
     },
     "metadata": {},
     "output_type": "display_data"
    },
    {
     "name": "stdout",
     "output_type": "stream",
     "text": [
      "Saving notebook... Saved 'hw11.ipynb'.\n",
      "Backup... 100% complete\n",
      "Backup successful for user: emilyxu@berkeley.edu\n",
      "URL: https://okpy.org/cal/data8/fa18/hw11/backups/Xo8Y8o\n",
      "NOTE: this is only a backup. To submit your assignment, use:\n",
      "\tpython3 ok --submit\n",
      "\n"
     ]
    }
   ],
   "source": [
    "_ = ok.grade('q3_7')\n",
    "_ = ok.backup()"
   ]
  },
  {
   "cell_type": "markdown",
   "metadata": {},
   "source": [
    "<div class=\"hide\">\\pagebreak</div>\n",
    "\n",
    "#### Question 8\n",
    "\n",
    "The park ranger tells us that the most recent eruption lasted 6 minutes. Using your function above, assign the variable `most_recent_wait` to the predicted wait time. "
   ]
  },
  {
   "cell_type": "code",
   "execution_count": 36,
   "metadata": {
    "ExecuteTime": {
     "end_time": "2018-04-11T12:05:54.430725Z",
     "start_time": "2018-04-11T12:05:54.424720Z"
    },
    "deletable": false
   },
   "outputs": [
    {
     "data": {
      "text/plain": [
       "97.85224539355451"
      ]
     },
     "execution_count": 36,
     "metadata": {},
     "output_type": "execute_result"
    }
   ],
   "source": [
    "most_recent_wait = fitted_value(faithful, 6)\n",
    "most_recent_wait"
   ]
  },
  {
   "cell_type": "code",
   "execution_count": 37,
   "metadata": {
    "ExecuteTime": {
     "end_time": "2018-04-11T12:05:54.734166Z",
     "start_time": "2018-04-11T12:05:54.591788Z"
    },
    "deletable": false,
    "scrolled": true
   },
   "outputs": [
    {
     "name": "stdout",
     "output_type": "stream",
     "text": [
      "~~~~~~~~~~~~~~~~~~~~~~~~~~~~~~~~~~~~~~~~~~~~~~~~~~~~~~~~~~~~~~~~~~~~~\n",
      "Running tests\n",
      "\n",
      "---------------------------------------------------------------------\n",
      "Test summary\n",
      "    Passed: 1\n",
      "    Failed: 0\n",
      "[ooooooooook] 100.0% passed\n",
      "\n"
     ]
    },
    {
     "data": {
      "application/javascript": [
       "IPython.notebook.save_checkpoint();"
      ],
      "text/plain": [
       "<IPython.core.display.Javascript object>"
      ]
     },
     "metadata": {},
     "output_type": "display_data"
    },
    {
     "data": {
      "application/javascript": [
       "IPython.notebook.save_notebook();"
      ],
      "text/plain": [
       "<IPython.core.display.Javascript object>"
      ]
     },
     "metadata": {},
     "output_type": "display_data"
    },
    {
     "name": "stdout",
     "output_type": "stream",
     "text": [
      "Saving notebook... Saved 'hw11.ipynb'.\n",
      "Backup... 100% complete\n",
      "Backup successful for user: emilyxu@berkeley.edu\n",
      "URL: https://okpy.org/cal/data8/fa18/hw11/backups/2vKGKW\n",
      "NOTE: this is only a backup. To submit your assignment, use:\n",
      "\tpython3 ok --submit\n",
      "\n"
     ]
    }
   ],
   "source": [
    "_ = ok.grade('q3_8')\n",
    "_ = ok.backup()"
   ]
  },
  {
   "cell_type": "markdown",
   "metadata": {},
   "source": [
    "Juan, a fellow tourist, raises the following objection to your prediction:\n",
    "\n",
    "> \"Your prediction depends on your sample of 272 eruptions.  Couldn't your prediction have been different if you had happened to have a different sample of eruptions?\"\n",
    "\n",
    "Having read section [16.3](https://www.inferentialthinking.com/chapters/16/3/prediction-intervals.html) of the textbook, you know just the response!"
   ]
  },
  {
   "cell_type": "markdown",
   "metadata": {},
   "source": [
    "<div class=\"hide\">\\pagebreak</div>\n",
    "\n",
    "#### Question 9\n",
    "\n",
    "Define the function `bootstrap_lines`.  It should take two arguments:\n",
    "1. A table with two columns.  As usual, we'll be predicting the second column using the first.\n",
    "2. An integer, a number of bootstraps to run.\n",
    "\n",
    "It should return a *table* whose first column, `\"Slope\"`, contains the given number of bootstrapped slopes, and whose second column, `\"Intercept\"`, contains the corresponding bootstrapped intercepts.  Each slope and intercept should come from a regression line that predicts column 2 from column 1 of a resample of the given table.  The table should have 1 row for each bootstrap replication."
   ]
  },
  {
   "cell_type": "code",
   "execution_count": null,
   "metadata": {
    "ExecuteTime": {
     "end_time": "2018-04-11T12:05:55.090019Z",
     "start_time": "2018-04-11T12:05:55.086009Z"
    },
    "deletable": false,
    "for_assignment_type": "student"
   },
   "outputs": [],
   "source": [
    "# Split the function into several parts"
   ]
  },
  {
   "cell_type": "code",
   "execution_count": 106,
   "metadata": {},
   "outputs": [
    {
     "data": {
      "text/plain": [
       "array([10.32922484, 10.76575815, 10.73401305, 11.19920738, 11.3886192 ,\n",
       "       10.56857832, 11.12757104, 10.85068113, 10.3745567 , 10.93002658,\n",
       "       11.02498928, 10.87066908, 10.66218065, 10.84803897, 11.14085864,\n",
       "       11.60890857, 10.36755885, 10.67799249, 10.86241039, 10.65725472,\n",
       "       11.16548137, 10.47019808, 10.26552592, 11.02017389, 11.08263848,\n",
       "       11.37589449, 11.41197135, 10.91960436, 10.65708351, 10.25256241,\n",
       "       10.97570409, 11.30443292, 10.44436676, 10.88396651, 10.23513454,\n",
       "       10.76416625, 11.12583914, 10.73574572, 10.43116655, 10.74983365,\n",
       "       10.41399132, 10.58107902, 10.94492453, 10.74326096, 10.33400704,\n",
       "       11.16461359, 10.81308676, 10.92315872, 10.6586028 , 11.06749701,\n",
       "       10.5885157 , 10.67162467, 10.72442639, 10.81736753, 10.75019539,\n",
       "       10.95191723, 10.59980273, 10.77216919, 11.37371963, 10.96373142,\n",
       "       11.34482541, 10.80602045, 10.93429899, 10.62268526, 10.59551798,\n",
       "       10.60494546, 11.0511691 , 10.8929891 , 10.49720225, 10.64587081,\n",
       "       11.20881547, 10.92166801, 10.49736861, 10.25709532, 11.12124516,\n",
       "       10.38828966, 10.69678974, 10.7180241 , 10.46624846, 10.51232099,\n",
       "       10.84874843, 10.52622649, 10.81477436, 11.03598411, 10.42279484,\n",
       "       10.49951188, 10.90234179, 10.87171126, 10.73793533, 11.12139118,\n",
       "       10.78101437, 10.82996593, 10.67681174, 10.67737787, 10.38892516,\n",
       "       10.73149865, 10.74641641, 10.09188235, 10.2464574 , 11.14167102,\n",
       "       10.84964236, 10.93987032, 11.0330014 , 10.70732404, 10.90887983,\n",
       "       10.40167783, 10.76016211, 11.01293393, 10.66723467, 10.86094018,\n",
       "       10.20967255, 10.58371299, 10.6046907 , 10.69193422, 10.6039897 ,\n",
       "       11.16064537, 10.51254846, 10.56466567, 10.67915932, 10.87650836,\n",
       "       11.38028599, 10.89316337, 10.65377253, 10.411476  , 10.50524026,\n",
       "       10.85327343, 10.73180148, 10.6929614 , 11.18648436, 11.14291971,\n",
       "       10.87133507, 11.03690811, 10.61773587, 10.92967581, 10.34051779,\n",
       "       10.48950698, 10.4714705 , 11.01663886, 10.37135882, 10.76372512,\n",
       "       10.83959146, 10.64583944, 10.84616158, 10.91400811, 11.1892257 ,\n",
       "       10.47097707, 10.64019599, 10.55124865, 10.99797618, 10.29998066,\n",
       "       10.250456  , 10.61803675, 10.75226715, 10.72029438, 10.69092981,\n",
       "       10.59218964, 10.54937036, 11.37342515, 10.70915969, 11.13639582,\n",
       "       10.48203295, 11.00061596, 10.66390452, 10.38121831, 10.19005991,\n",
       "       10.20996798, 10.99744599, 10.84021398, 11.27649755, 10.49313252,\n",
       "       10.67440214, 10.81644889, 10.78391264, 10.77331913, 10.8150149 ,\n",
       "       10.40297758, 10.2919994 , 11.06160253, 10.63719419, 10.7746291 ,\n",
       "       10.95134248, 10.98103226, 11.20316421, 10.82925113, 10.74641845,\n",
       "       11.04854608, 10.21614038, 10.82311893, 11.40896295, 10.73746861,\n",
       "       10.58985972, 10.60093947, 10.09140709, 11.02268032, 11.03612234,\n",
       "       11.18756383, 10.60924981, 10.93794041, 10.53294856, 10.88893893,\n",
       "       10.72584634, 10.84458798, 11.22275767, 11.21135906, 10.58651245,\n",
       "       10.63679676, 10.86816308, 10.59867285, 10.88886607, 10.5308491 ,\n",
       "       10.40478811, 10.93074746, 10.65713978, 10.96091571, 10.55487062,\n",
       "       11.48985973, 10.52409081, 10.58002109, 10.1825075 , 11.04357512,\n",
       "       11.16456804, 10.86779947, 10.77378916, 10.98190399, 10.23013908,\n",
       "       10.19059206, 10.85520327, 10.74434426, 10.6878535 , 10.48924361,\n",
       "       10.59367699, 10.37799699, 10.67123513, 10.81773785, 10.64649434,\n",
       "       10.31801879, 10.7693403 , 10.99604434, 10.73417419, 10.30709958,\n",
       "       10.64843646, 11.03521087, 10.65700557, 10.40749805, 10.73292563,\n",
       "       10.55364629, 10.97899094, 10.46919387, 10.72799022, 10.79954886,\n",
       "       10.4322711 , 10.36711258, 10.80527417, 10.55471826, 10.73260193,\n",
       "        9.96934575, 11.02204792, 10.6144631 , 10.83549611, 11.76478194,\n",
       "       11.4777074 , 10.22852207, 10.7631879 , 10.43122377, 10.89328971,\n",
       "       10.35913652, 10.06887389, 10.70443556, 10.49650922, 10.70532299,\n",
       "       10.39874452, 10.71328129, 10.94177503, 11.0899353 , 10.17388667,\n",
       "       10.84350801, 10.687902  , 10.51695935, 10.82474218, 10.41853058,\n",
       "       10.97462521, 10.27585566, 10.37233456, 10.8787152 , 11.45166277,\n",
       "       11.07820875, 11.06067862, 10.94820953, 10.53071303, 10.77566949,\n",
       "       10.69667336, 10.54222642, 11.07572124, 10.81343338, 10.35874205,\n",
       "       10.79501043, 10.67096818, 10.58720495, 10.60000651, 10.46991539,\n",
       "       10.76267632, 10.49712335, 10.79424589, 11.05353069, 10.49617916,\n",
       "       10.31115164, 10.87816681, 11.07606256, 10.5433421 , 11.12645789,\n",
       "       10.59162204, 10.39486265, 10.46439878, 10.84920784, 10.36276912,\n",
       "       10.54029089, 10.41637736, 10.53732947, 10.55444145, 10.39989146,\n",
       "       10.70810536, 11.09460715, 10.48648849, 10.94125158, 10.69911009,\n",
       "       10.4464781 , 10.92916902, 10.81659321, 10.65124728, 10.35560993,\n",
       "       10.64176971, 10.64380002, 10.51389159, 10.61498598, 10.56317533,\n",
       "       10.28807217, 10.04045611, 10.57673981, 10.35088756, 10.6264869 ,\n",
       "       10.32515826, 10.92362486, 10.85759419, 10.90597256, 10.80075462,\n",
       "       10.45890034, 10.59509413, 10.9474251 , 10.58551776, 10.46897908,\n",
       "       10.93515783, 10.49054865, 10.87253375, 10.51767154, 10.56787631,\n",
       "       10.94654674, 10.80200868, 11.23661572, 10.79675829, 10.81105111,\n",
       "       10.79855219, 10.69797919, 10.34980066, 10.67364547, 10.88200452,\n",
       "       10.61128074, 10.91183174, 10.83598053,  9.98356361, 10.82809914,\n",
       "       10.81107206, 10.6238854 , 10.73757109, 10.41865762, 11.08518552,\n",
       "       10.17239802, 10.84945238, 10.72097417, 10.35264707, 10.37032942,\n",
       "       10.50060594, 11.10251705, 10.82259609, 10.34422375, 11.07336516,\n",
       "       10.94169727, 10.93478256, 10.77236034, 10.26081046, 10.41321552,\n",
       "       10.73836642, 10.94621217, 10.61702209, 10.27822761, 10.59458522,\n",
       "       11.17994712, 10.60366808, 10.66360722, 10.57818692, 10.55205823,\n",
       "       11.03745247, 10.67733618, 10.65603184, 10.50796536, 10.76204609,\n",
       "       10.98801989, 10.53351666, 10.38527683, 10.84846663, 11.33256345,\n",
       "       11.03289403, 10.59692246, 10.92334201, 10.32397065, 10.5895619 ,\n",
       "       10.43412526, 10.08254936, 10.8674626 , 10.76935433, 10.85138466,\n",
       "       10.81778444, 11.16562178, 11.15477252, 10.64020503, 10.8092863 ,\n",
       "       10.74701585, 10.18360811, 10.23956248, 10.68899244, 10.24770087,\n",
       "       10.6060426 , 11.13499639, 10.68798581, 10.94260971, 10.53538374,\n",
       "       11.47577498, 10.34988534, 10.83639171, 10.53836739, 11.18243129,\n",
       "       10.77722581, 10.38251624, 11.13780964, 11.20705331, 10.44252899,\n",
       "       10.71403258, 10.59354383, 10.9170355 , 10.91676363, 10.88162163,\n",
       "       10.92406658, 10.61931144, 10.60165166, 10.17319928, 10.86613507,\n",
       "       10.66523801, 10.63851851, 10.79856246, 11.03298929, 11.47909315,\n",
       "       10.72634362, 10.57247984, 10.44442911, 10.82094648, 10.46764   ,\n",
       "       10.59252909, 10.7464298 , 10.33182215, 10.69093684, 11.00757528,\n",
       "       10.41646428, 10.84856021, 10.56097098, 10.80349208, 10.4602914 ,\n",
       "       10.22756143, 10.65145409, 10.60723203, 10.75436389, 10.31196441,\n",
       "       10.92420762, 10.62224216, 10.3760441 , 10.23014933, 10.61247751,\n",
       "       11.17806004, 10.8268836 , 10.35230198, 10.63399698, 11.65696579,\n",
       "       10.44549064, 10.47034843, 10.31249556, 11.02865854, 10.60872921,\n",
       "       10.6839695 , 10.77097741, 10.60289195, 10.71437265, 10.90584284,\n",
       "       11.50871068, 10.45761021, 10.88761567, 11.11030989, 10.81706188,\n",
       "       10.86037885, 11.01513109, 10.36189244, 10.73550506, 10.79105118,\n",
       "       10.79672719, 10.75731657, 10.40162544, 10.27301957, 10.72929452,\n",
       "       10.89224824, 10.53750845, 11.19768996, 10.61112548, 11.10499986,\n",
       "       10.48523564, 10.8245742 , 10.23078006, 10.88367861, 10.55321167,\n",
       "       10.77061512, 10.75312429, 10.25003089, 10.61848884, 10.83864864,\n",
       "       10.90056411, 11.23485804, 10.5211191 , 10.41629017, 10.5788085 ,\n",
       "       10.36544141, 10.58466871, 10.58967706, 11.06381047, 10.31364886,\n",
       "       10.65531571, 11.38194618, 10.3792844 , 10.31987895, 10.7729727 ,\n",
       "       10.80229555, 10.83953033, 11.09279582, 10.90636723, 10.86451007,\n",
       "       10.16858151, 10.83102287, 10.27990323, 10.83415213, 10.61310657,\n",
       "       10.78823446, 10.63262542, 10.56829356, 11.02711401, 10.8271453 ,\n",
       "       10.86844351, 10.66654684, 10.42362264, 10.4768838 , 10.67340836,\n",
       "       10.45733843, 10.26998678, 10.7769627 , 10.57967865, 10.35117312,\n",
       "       10.64387988, 10.35297543, 10.87587642, 10.38790008, 10.83392116,\n",
       "       10.51467544, 10.45790565, 10.9249676 , 10.44224083, 10.19866902,\n",
       "       10.79389225, 10.5626082 , 11.26119103, 10.9154684 , 10.71299577,\n",
       "       10.93951354, 11.32700293, 10.95092602, 10.60285275, 10.77671234,\n",
       "       10.30533486, 10.76895045, 10.40117541, 10.59314993, 10.42482937,\n",
       "       10.83815226, 10.88306215, 10.71467733, 10.56653524, 11.00581724,\n",
       "       10.47624453, 10.49935976, 10.56600457, 10.37479126, 10.520287  ,\n",
       "       10.52555904, 11.20950008, 10.51587334, 10.94229914, 11.5999618 ,\n",
       "       10.52553833, 10.67667021, 10.72084814,  9.80719811, 10.83305212,\n",
       "       10.64747258, 11.0304827 , 10.38535907, 10.86684151, 10.66405124,\n",
       "       11.09488762, 10.18561263, 10.63168929, 10.73475595, 10.18385923,\n",
       "       10.88448624, 10.70355116, 10.96278865, 10.87304862, 10.41802408,\n",
       "       10.45119072, 10.66424201, 11.01502331, 10.60211841, 11.16155243,\n",
       "       10.7675648 , 10.87886962, 10.83192339, 10.93665991, 10.60592812,\n",
       "       10.64488619, 10.93106584, 10.83878765, 10.79789946, 10.75631288,\n",
       "       10.83664824, 10.96654639, 10.74624197, 10.75627599, 10.32738134,\n",
       "       10.63758947, 10.69439289, 10.62734262, 10.64502495, 10.54598142,\n",
       "       10.99695089, 10.75622559, 10.74725003, 10.83286132, 11.45456976,\n",
       "       10.8813498 , 10.64948378, 11.08631924, 10.37907089, 11.18874037,\n",
       "       10.42134704, 10.74172339, 10.57974926, 10.95243564, 10.85233213,\n",
       "       10.47417408, 10.66579136, 11.32018458, 10.43168059, 11.22512202,\n",
       "       10.75077158, 10.85801668, 10.7869473 , 10.54209225, 10.80451715,\n",
       "       10.33943438, 10.57883051, 11.04956419, 11.04954008, 11.08894134,\n",
       "       10.4430328 , 10.88212068, 10.09751851, 10.46549575, 10.99204684,\n",
       "       11.11955484, 10.78163402, 10.92855949, 10.76614048, 10.70617636,\n",
       "       10.78854343, 10.21277064, 10.91109723, 10.41894079, 10.40875553,\n",
       "       10.83895516, 11.01259855, 11.27955997, 10.86868552, 10.23403408,\n",
       "       10.54080702, 10.93110543, 10.75965216, 10.63671485, 10.97528708,\n",
       "       10.86284435, 10.75501952, 10.68856472, 10.84267941, 10.65470892,\n",
       "       10.33853116, 11.03602831, 10.15019408, 10.73491975, 10.42269565,\n",
       "       11.54388402, 10.27318855, 11.02240622, 11.4914458 , 10.66566983,\n",
       "       10.83712589, 10.66875242, 10.27837391, 10.86677132, 11.32081328,\n",
       "       10.90399848, 10.2370449 , 10.91965789, 10.79607355, 10.7876989 ,\n",
       "       11.04418074, 10.04586221, 10.88638267, 11.3155131 , 10.56086093,\n",
       "       10.93408631, 10.65530138, 10.82268547, 10.4989713 , 10.31955686,\n",
       "       10.66296909, 10.38216106, 10.42023755, 10.51060836, 10.36690299,\n",
       "       10.801429  , 10.28325226, 10.87678078, 10.65014024, 10.38731184,\n",
       "       10.6033423 , 11.05705125, 10.74975165, 10.45957912, 10.55165682,\n",
       "       11.0495488 , 10.67334125, 10.49574563, 10.46195212, 10.30655261,\n",
       "       10.75885509, 10.78935541, 10.87810994, 10.70571082, 10.59677407,\n",
       "       11.35785688, 10.67683448, 10.7918902 , 10.71337294, 10.46277779,\n",
       "       11.42513719, 10.41102923, 11.29977377, 10.53929178, 10.36873857,\n",
       "       10.90618078, 10.74629652, 10.44961049, 11.23356039, 10.81423812,\n",
       "       11.17872719, 10.60784349, 11.12685322, 10.67659958, 11.02247079,\n",
       "       10.56697927, 10.30188394, 11.41343778, 10.21952194, 10.78287609,\n",
       "       11.72272587, 10.69582429, 11.22695195, 10.3365638 , 10.26935347,\n",
       "       11.05144426, 10.91036439, 10.99450402, 10.49339842, 10.99692515,\n",
       "       10.87864155, 11.17412278, 10.16883311, 11.01612729, 11.31227582,\n",
       "       11.02477027, 10.55865001, 11.04937442, 10.68410906, 10.80317673,\n",
       "       11.06749312, 11.10339336, 10.91197627, 10.42363291, 11.15561447,\n",
       "       10.8193935 , 11.38072078, 10.4139464 , 10.48819508, 10.89409092,\n",
       "       10.85191064, 10.8388518 , 10.66429669, 11.04093038, 10.70307218,\n",
       "       10.55635072, 10.9393417 , 10.62064945, 10.79550259, 10.27908294,\n",
       "       10.38677247, 11.06835616, 10.77526008, 10.53103661, 10.96000433,\n",
       "       10.2863518 , 10.66322687, 10.43998568,  9.96544012, 10.43419392,\n",
       "       10.75936348,  9.81151866, 10.92643873, 10.90199397, 10.55929042,\n",
       "       10.63391043, 10.95101173, 10.28721477, 10.82305602, 10.48054086,\n",
       "       10.13166507, 11.03000709, 10.8068815 , 10.95398981, 10.4104807 ,\n",
       "       10.92169273, 10.41947686, 10.74893372, 10.41979616, 10.61815496,\n",
       "       10.75583603, 10.76593324, 10.70319895, 11.21284074, 11.12029952,\n",
       "       11.11354431, 10.33809782, 10.53127894, 10.16013296, 10.99423817,\n",
       "       10.55221752, 10.6296957 , 10.6848435 , 10.7322417 , 10.38154879,\n",
       "       10.2397694 , 10.77709413, 11.01872311, 11.18189717, 10.73867175,\n",
       "       10.64784938, 10.87541163, 10.61465219, 10.97009693, 10.61974457,\n",
       "       10.71229673, 10.70422725, 10.51911469, 10.3501142 , 10.31628884,\n",
       "       11.06502343, 10.7066463 , 10.31020599, 10.22717411, 11.27476345,\n",
       "       10.67845626, 10.70937638, 10.77468207, 10.56164294, 10.00248895,\n",
       "       10.44681574, 10.94910173, 10.81825244, 11.23694269, 11.0164176 ,\n",
       "       10.61747473, 10.55084841, 10.55655941, 10.42821088, 11.4676191 ,\n",
       "       10.92507085, 11.32150856, 10.49277535, 10.82473137, 10.75729722,\n",
       "       10.54396685, 10.6456107 , 10.43640135, 10.40099383, 11.04288738,\n",
       "       10.61906645, 10.76003415, 10.92601196, 10.32443609, 10.62665441,\n",
       "       11.01186892, 10.82862707, 10.58175746, 10.49737535, 11.12447971,\n",
       "       11.0510955 , 10.4395534 , 10.43054058, 10.75124168, 10.76501856,\n",
       "       10.77511236, 10.87714698, 10.52429383, 10.54799241, 10.72508664,\n",
       "       10.31229937, 10.20401302, 10.80500867, 10.86419295, 10.45865918,\n",
       "       10.85512846, 10.51915511, 10.15421683, 10.61650955, 10.41430551,\n",
       "       11.25299053, 11.0689289 , 10.609079  , 10.45708357, 11.06201501,\n",
       "       11.04652302, 10.22766354, 11.08281201, 10.7576028 , 10.88143587,\n",
       "       10.84103209, 10.65760075, 11.07762119, 10.56890256, 10.46659847,\n",
       "       10.63281927, 10.67091134, 10.3877794 , 10.99889873, 10.39676701,\n",
       "       10.64761227, 10.68389278, 10.58646549, 10.81855358, 10.45821655,\n",
       "       10.77708159, 10.76544586, 10.85319547, 11.04200243, 10.24620903,\n",
       "       10.78967238, 11.13144682, 11.30277775, 10.28180811, 10.91032549,\n",
       "       10.88201253, 10.65600525, 11.29847667, 10.79321473, 10.90929228,\n",
       "       11.26633579, 10.45697531, 10.86071392, 10.65773039, 10.93554369])"
      ]
     },
     "execution_count": 106,
     "metadata": {},
     "output_type": "execute_result"
    }
   ],
   "source": [
    "def slopes(tbl, num_bootstraps):\n",
    "        \n",
    "    sampled_slopes = make_array()\n",
    "        \n",
    "    for i in np.arange(num_bootstraps):\n",
    "        \n",
    "        new_sample = tbl.sample()\n",
    "        \n",
    "        slope = fit_line(new_sample).item(0)\n",
    "        sampled_slopes = np.append(sampled_slopes, slope)\n",
    "        \n",
    "    return sampled_slopes\n",
    "\n",
    "slopes(faithful, 1000)"
   ]
  },
  {
   "cell_type": "code",
   "execution_count": 107,
   "metadata": {},
   "outputs": [
    {
     "data": {
      "text/plain": [
       "array([33.78057377, 32.7115435 , 34.32595748, 34.75121571, 34.30634052,\n",
       "       31.38360289, 31.77998586, 33.08483087, 34.03751136, 33.55655679,\n",
       "       31.21414466, 33.57335916, 33.05592013, 34.45498081, 34.10847459,\n",
       "       33.44042016, 34.35929113, 34.55125861, 33.16516798, 32.92846811,\n",
       "       32.15877271, 33.78903253, 32.62405372, 33.54074388, 33.66811211,\n",
       "       33.54422823, 33.99893053, 35.08675476, 31.13098084, 34.55794808,\n",
       "       34.66067561, 33.88648559, 32.09189941, 33.89136217, 34.02124867,\n",
       "       33.32464616, 31.99844573, 32.51827705, 33.66973035, 34.23738948,\n",
       "       34.91736252, 36.23027443, 32.43720547, 32.91149418, 32.69352091,\n",
       "       34.14556404, 33.39127136, 32.12501432, 31.21337036, 33.47246622,\n",
       "       34.78032012, 33.95034237, 31.98315952, 34.22134024, 34.59408921,\n",
       "       34.8841832 , 32.01379519, 33.56196977, 33.66068436, 34.70550904,\n",
       "       34.52284849, 33.69263763, 33.43282908, 30.30992128, 33.44194018,\n",
       "       34.41690796, 33.25921279, 32.25955546, 34.10033783, 34.30131588,\n",
       "       33.31793242, 32.8580407 , 34.53659719, 35.16814198, 32.70313659,\n",
       "       31.67522918, 32.60302224, 33.0542575 , 34.66821149, 34.52786263,\n",
       "       33.38159436, 33.93673942, 32.8854541 , 33.78309177, 32.5887788 ,\n",
       "       32.19649853, 32.68590796, 30.77698194, 33.62721811, 31.79499472,\n",
       "       33.54187374, 32.92131729, 33.44701047, 31.86633716, 33.27915093,\n",
       "       33.46189225, 32.98781006, 33.72741418, 33.23243192, 33.81754528,\n",
       "       33.09025797, 34.22997515, 32.52563756, 32.78548116, 35.32678036,\n",
       "       32.62133815, 34.56963321, 33.70321754, 32.3411771 , 34.97483379,\n",
       "       34.19733899, 33.60617196, 32.8145988 , 32.69520778, 32.3413429 ,\n",
       "       33.65153783, 34.62218414, 33.13079209, 34.3752664 , 33.63728207,\n",
       "       33.0727172 , 32.6744251 , 33.65110187, 33.0132989 , 33.16909249,\n",
       "       33.08044015, 30.49426344, 33.1844108 , 31.85359083, 34.71391994,\n",
       "       33.5895664 , 32.26658907, 31.41592934, 30.76128808, 33.09837814,\n",
       "       32.59173819, 34.69815631, 32.26316715, 33.92519553, 33.78505983,\n",
       "       32.75593863, 30.68514644, 31.7490149 , 34.26848592, 30.68841595,\n",
       "       32.44787886, 33.76063984, 33.89088364, 33.15521879, 34.72979347,\n",
       "       33.34685067, 35.16688575, 32.76723036, 32.56890791, 33.36487399,\n",
       "       32.29782065, 32.52443601, 32.97626822, 32.85725982, 32.69887527,\n",
       "       33.13681379, 33.3762733 , 32.77420319, 33.8780414 , 35.04880474,\n",
       "       35.39633761, 33.09816268, 33.39541712, 33.12199912, 31.65770219,\n",
       "       34.32481494, 31.07052972, 34.14600732, 33.52858522, 32.8691812 ,\n",
       "       35.53448701, 33.27408396, 34.58181879, 31.92963996, 33.92959957,\n",
       "       33.92482147, 32.27166057, 33.63530675, 34.36025941, 34.72943919,\n",
       "       31.81336309, 34.37817688, 32.98017193, 33.60406109, 32.49462113,\n",
       "       33.5827309 , 35.54478493, 33.85754852, 33.42307704, 34.00478697,\n",
       "       31.97304369, 35.52400473, 34.96015435, 32.9620398 , 34.13851412,\n",
       "       35.2278894 , 31.68745571, 33.07354694, 32.65992502, 33.53445135,\n",
       "       31.0561298 , 34.12727293, 33.16134418, 33.65620215, 33.01143784,\n",
       "       33.1371671 , 34.41545886, 33.64207608, 34.90338419, 33.00422167,\n",
       "       33.76709022, 32.82329812, 32.70061619, 31.05265696, 34.45034002,\n",
       "       33.57721822, 33.1471441 , 33.45852999, 34.34566547, 33.15597679,\n",
       "       35.36004837, 32.24383277, 34.99458473, 33.69393204, 34.23176851,\n",
       "       33.46640347, 33.64893395, 33.81111266, 33.8945176 , 33.37342846,\n",
       "       36.15503621, 32.91469605, 35.22973603, 33.86246953, 33.91250215,\n",
       "       32.19599674, 31.40813993, 33.92938602, 34.6778015 , 33.44634991,\n",
       "       34.18645312, 32.7491419 , 32.07309108, 34.9493395 , 32.97518202,\n",
       "       36.65783386, 30.67682678, 32.36464552, 33.08152169, 33.2797785 ,\n",
       "       32.47935681, 34.27692456, 32.10128885, 30.52288253, 33.12494236,\n",
       "       35.80966967, 32.19051047, 34.61947589, 31.20628256, 33.27451732,\n",
       "       33.77931303, 32.93282141, 33.21487904, 33.03068216, 32.7227163 ,\n",
       "       32.00698906, 32.80522378, 34.04370281, 34.46806983, 33.75500526,\n",
       "       34.58325715, 32.91723412, 33.13101727, 33.08972334, 35.10761499,\n",
       "       32.52737918, 33.18158011, 34.64430748, 33.3048189 , 34.16698558,\n",
       "       34.71258153, 34.80200447, 34.06927625, 32.86094979, 33.02327854,\n",
       "       31.51179051, 32.73929644, 33.01797051, 33.02509804, 33.07966557,\n",
       "       33.37732372, 31.2750057 , 33.13641094, 33.44379083, 33.20503931,\n",
       "       35.21789816, 33.99969938, 35.65337632, 33.99666593, 32.35209689,\n",
       "       33.97966325, 32.94526557, 32.29149388, 35.21319492, 33.84259757,\n",
       "       34.1356272 , 35.78679298, 35.2029125 , 33.89080336, 34.94207008,\n",
       "       35.01858813, 33.5091742 , 32.01561542, 35.13380106, 32.60302748,\n",
       "       33.60129711, 34.14089675, 34.49415537, 33.69919886, 34.57023095,\n",
       "       34.81600765, 33.530135  , 33.50114878, 35.21322004, 32.79282557,\n",
       "       33.79307288, 36.01277683, 34.80537161, 35.08728538, 32.90773078,\n",
       "       33.53302288, 31.82652943, 33.82855485, 31.74746115, 33.34183623,\n",
       "       34.22491965, 33.09459853, 33.03019424, 35.02827187, 32.71999477,\n",
       "       33.80340385, 34.3720807 , 32.87393993, 32.52055127, 33.63855343,\n",
       "       33.82987225, 35.48926672, 33.2399322 , 33.82033368, 34.02458243,\n",
       "       33.85560634, 33.98799019, 35.07546785, 34.92606323, 34.07409459,\n",
       "       33.07092334, 32.86104585, 34.02509363, 32.19383395, 32.44032884,\n",
       "       31.96125685, 32.62802434, 34.1758711 , 32.80830869, 33.46461316,\n",
       "       33.63730173, 34.00854989, 33.61359448, 32.77447538, 33.9737421 ,\n",
       "       35.04531878, 32.41684325, 31.18995104, 33.32967465, 32.86706342,\n",
       "       34.29328691, 32.70592258, 32.56519647, 32.6989386 , 34.4437744 ,\n",
       "       33.45132297, 33.89483765, 33.25103542, 33.41393359, 35.31364359,\n",
       "       33.39644061, 35.46743248, 32.72059595, 31.56570235, 35.70118198,\n",
       "       35.07242908, 33.53123466, 34.17711826, 34.65413805, 34.96449774,\n",
       "       33.78155556, 35.5959398 , 32.74790222, 33.50414836, 35.31208073,\n",
       "       33.05070491, 34.46303024, 33.08567439, 34.06958255, 33.24849496,\n",
       "       33.39951616, 34.73597337, 34.61386508, 33.37713769, 32.27843672,\n",
       "       33.58172767, 31.48904429, 35.20689951, 34.57861296, 32.9265323 ,\n",
       "       33.8510171 , 33.2318649 , 33.92712885, 31.31071149, 33.01338464,\n",
       "       33.66669186, 34.65406521, 32.98480567, 34.43924934, 32.79714691,\n",
       "       34.1975395 , 32.34524895, 34.34906527, 34.3094388 , 34.26671462,\n",
       "       33.5276691 , 33.65589433, 33.35594463, 32.63956025, 35.49541176,\n",
       "       32.95176568, 33.28560639, 34.22643721, 33.82021356, 33.16860567,\n",
       "       34.41330519, 32.06984311, 33.42835803, 33.51615612, 34.09064358,\n",
       "       33.49789395, 32.57156105, 31.54027091, 32.13211215, 35.52752418,\n",
       "       34.51956105, 34.49626138, 34.43308831, 34.33066182, 34.89675978,\n",
       "       33.7984781 , 35.17145153, 36.14788098, 31.2099917 , 33.92290983,\n",
       "       34.75306378, 33.05387345, 32.45799696, 35.2019751 , 32.21890301,\n",
       "       34.05127237, 32.75588676, 33.61343393, 32.91171968, 34.04972445,\n",
       "       33.30402522, 34.8185542 , 35.12935167, 34.52983549, 33.44466653,\n",
       "       34.50696061, 31.39813292, 33.32085963, 34.19315585, 33.09495869,\n",
       "       33.38920318, 32.54675033, 33.59675399, 35.04745701, 33.57139292,\n",
       "       31.89053379, 35.2922467 , 34.18845005, 34.78100941, 32.48414298,\n",
       "       31.0374894 , 34.29902513, 32.82201177, 35.95006043, 33.92714293,\n",
       "       32.33872864, 33.5341751 , 35.43938979, 33.78506823, 33.82832437,\n",
       "       31.54437567, 32.55992653, 32.8597655 , 34.11972354, 33.97171051,\n",
       "       34.57573388, 34.22076133, 32.90800552, 33.63104765, 32.22288373,\n",
       "       32.08196758, 34.16608237, 33.82430038, 34.24080246, 32.03752298,\n",
       "       34.63676986, 32.99447525, 34.3461248 , 34.24013167, 32.49596821,\n",
       "       32.97632896, 34.83130873, 32.13726539, 34.09191984, 32.32580881,\n",
       "       34.34820685, 33.72876252, 32.86847387, 33.13759074, 31.52975102,\n",
       "       34.57976515, 31.51804209, 33.15245163, 32.60882367, 31.78825334,\n",
       "       34.35055363, 31.56966046, 32.90428964, 34.25395665, 33.74815341,\n",
       "       32.92827516, 33.55364075, 32.67458681, 32.42589207, 34.41738693,\n",
       "       33.70805028, 33.19925845, 33.40385832, 31.55068567, 32.7457439 ,\n",
       "       33.02874483, 31.8612685 , 32.80929422, 32.42005547, 32.72057569,\n",
       "       32.52953113, 33.75049882, 34.60359187, 33.84555605, 31.89675323,\n",
       "       32.77071408, 32.50508209, 33.86941475, 34.41028757, 34.50886765,\n",
       "       31.63462842, 34.4038036 , 33.9046896 , 35.4299632 , 32.3233606 ,\n",
       "       33.78089042, 34.26785277, 32.32883596, 33.20318153, 30.95336585,\n",
       "       33.14253365, 35.47858095, 33.12523159, 31.73613116, 32.59041142,\n",
       "       34.62865368, 33.31232187, 33.32910395, 33.81534385, 32.94100699,\n",
       "       33.71778399, 31.2082096 , 31.74844084, 31.32194849, 31.66488737,\n",
       "       34.06670168, 32.52551313, 34.7648323 , 32.79480373, 32.95862348,\n",
       "       33.79819131, 34.1546137 , 34.36747054, 32.20012969, 34.05807169,\n",
       "       35.55650945, 35.81471063, 31.78371734, 33.23199267, 35.66877898,\n",
       "       34.38139668, 32.34986354, 33.13353637, 32.81972439, 30.81036315,\n",
       "       32.4479539 , 33.56771807, 33.58526075, 33.10478229, 32.43133835,\n",
       "       33.50087897, 33.00639056, 33.35770355, 33.67950915, 32.98092594,\n",
       "       35.98422067, 34.53102999, 34.06869709, 33.12569916, 34.82452922,\n",
       "       34.89084613, 31.34732811, 33.96001878, 34.39532653, 33.98950603,\n",
       "       33.93849498, 35.36035618, 33.16485346, 31.90518901, 33.11933744,\n",
       "       33.28476508, 32.87612493, 33.13534704, 34.32772151, 32.20513234,\n",
       "       32.42114535, 34.58483969, 34.08814861, 34.93152346, 33.27544279,\n",
       "       34.37587598, 33.33904031, 30.66505427, 33.929935  , 34.90220264,\n",
       "       33.50876814, 34.98675946, 31.86837586, 33.54221041, 34.79607769,\n",
       "       33.4399856 , 34.2868119 , 32.136081  , 34.32076503, 32.78283634,\n",
       "       33.41400575, 32.87626339, 32.85560528, 32.63183756, 33.49706005,\n",
       "       35.10753029, 35.38741512, 34.95732022, 33.35944485, 32.5196388 ,\n",
       "       34.38736326, 33.41278111, 36.47053624, 34.15452947, 33.18370953,\n",
       "       34.70308157, 33.92309905, 32.55876268, 31.96196019, 33.58054318,\n",
       "       34.92946502, 34.73163558, 34.46436256, 31.95889627, 32.25146498,\n",
       "       32.93866113, 31.96255479, 34.73541223, 31.82793605, 32.00670948,\n",
       "       32.622423  , 32.37159676, 33.0982927 , 34.81136876, 32.55141283,\n",
       "       34.35095433, 32.19914027, 33.78748672, 33.00232967, 33.60314234,\n",
       "       33.77127168, 34.34471431, 33.30908696, 34.39682549, 33.04856198,\n",
       "       33.37423445, 32.13031455, 33.16273432, 30.62714013, 33.12749134,\n",
       "       33.73933956, 34.61575067, 33.67072775, 34.15393375, 33.13449846,\n",
       "       31.04440025, 32.58959615, 33.96999191, 32.87398869, 33.628223  ,\n",
       "       31.63952161, 33.03983034, 33.78606601, 33.53299858, 34.57531763,\n",
       "       33.98193623, 33.68269763, 32.71424108, 34.99223602, 34.26969526,\n",
       "       33.6030897 , 32.78649534, 34.84830284, 32.4634331 , 32.7031777 ,\n",
       "       34.33753729, 34.0771265 , 34.334719  , 32.44566867, 34.63554525,\n",
       "       32.07565944, 33.21617275, 32.50076164, 34.51150201, 34.31036003,\n",
       "       33.76843595, 32.36303538, 32.37735821, 32.01973483, 33.06650432,\n",
       "       34.18635037, 33.12004815, 32.55222593, 33.54078283, 30.48914288,\n",
       "       33.98162969, 32.11333748, 35.59914298, 34.74700032, 33.79100345,\n",
       "       30.99050745, 33.17363088, 33.05283606, 34.19248255, 34.31743414,\n",
       "       32.9191375 , 34.62297052, 32.82655414, 33.78495574, 34.68280356,\n",
       "       33.07468256, 34.18930251, 33.39628511, 32.24657528, 35.10792594,\n",
       "       33.17776232, 32.50727803, 35.74456951, 33.4071638 , 32.67194762,\n",
       "       34.45761331, 32.68857027, 32.34958358, 34.76132135, 33.10069595,\n",
       "       35.40319599, 31.99267925, 34.23155916, 32.20132936, 34.07572032,\n",
       "       32.94744096, 34.15338964, 32.35412323, 33.48145599, 33.66115831,\n",
       "       32.26755781, 33.54669485, 34.9859619 , 32.58617797, 35.05773811,\n",
       "       35.28561362, 34.93856187, 33.3201459 , 33.15453073, 32.43974398,\n",
       "       31.50747945, 32.63017468, 33.95495269, 35.21806986, 33.74226486,\n",
       "       32.93239342, 33.0936993 , 33.16628393, 32.92403232, 34.95550814,\n",
       "       31.88688363, 34.13494172, 34.30541545, 33.77782528, 31.73642683,\n",
       "       32.50874401, 33.83605855, 31.4663954 , 33.15633706, 31.93214824,\n",
       "       31.54046616, 31.9164082 , 32.46444451, 32.39867326, 34.77770835,\n",
       "       31.47335564, 32.247555  , 32.48968524, 32.17396285, 33.77590542,\n",
       "       34.16266985, 34.43810663, 32.45353653, 36.3910323 , 32.34956447,\n",
       "       35.66837019, 33.21886274, 32.46570162, 34.43964741, 32.09836085,\n",
       "       35.00888113, 32.08308211, 35.05040592, 31.42900715, 34.6982494 ,\n",
       "       35.02590728, 33.20636826, 32.37234345, 33.11610172, 31.74542603,\n",
       "       33.78561973, 33.09338037, 34.17718053, 32.03432916, 34.39266408,\n",
       "       36.86016097, 31.79701813, 31.60083133, 32.94400681, 32.39588251,\n",
       "       33.95866055, 34.19603398, 34.95312994, 32.66335445, 33.18878019,\n",
       "       32.29494466, 33.17228065, 34.47553278, 32.80537975, 32.722834  ,\n",
       "       32.07723886, 33.3629479 , 31.1790769 , 33.66801338, 32.69230092,\n",
       "       33.0633598 , 31.93426364, 33.7986724 , 34.33340165, 33.40586626,\n",
       "       33.78166488, 32.69502235, 34.35198173, 34.56532715, 34.84144402,\n",
       "       33.41830303, 34.47327885, 34.27323032, 34.64511709, 31.46919631,\n",
       "       32.37634334, 32.05375122, 33.99564011, 31.77252139, 33.1988528 ,\n",
       "       34.18084919, 32.22830786, 32.26632807, 35.19210857, 32.55716117,\n",
       "       33.39619384, 35.54157611, 34.73886213, 33.03976983, 34.4786279 ,\n",
       "       31.97673841, 31.61037032, 33.54700525, 34.79950811, 34.629997  ,\n",
       "       30.93449069, 33.32786616, 32.60115928, 33.07175059, 34.0263634 ,\n",
       "       36.8173944 , 34.26360668, 34.20955241, 33.7042771 , 31.84920691,\n",
       "       32.95583662, 35.26103269, 35.71329007, 34.20012071, 32.6445394 ,\n",
       "       33.3071435 , 33.92877622, 32.39346191, 33.98695408, 35.67457928,\n",
       "       33.25083182, 33.90847632, 33.96068003, 33.85651334, 32.84756276,\n",
       "       33.62697408, 34.54648834, 33.48127832, 31.71030649, 34.15954359,\n",
       "       32.84325423, 35.33733489, 33.69988911, 33.99186157, 34.84157179,\n",
       "       30.97434318, 32.46944725, 33.21492342, 32.91695153, 35.1970456 ,\n",
       "       32.8029929 , 34.74568362, 31.93309167, 33.90704474, 34.39566753,\n",
       "       33.476335  , 31.59686051, 32.58285888, 31.57181496, 33.90413912,\n",
       "       34.11595465, 32.90585638, 33.49880381, 33.71524655, 34.0272744 ,\n",
       "       33.99038695, 32.76892818, 33.05968708, 33.09913454, 35.69288597,\n",
       "       32.44950068, 33.94494316, 34.02172565, 31.76095167, 32.7452294 ,\n",
       "       35.33237496, 33.35064609, 33.03522391, 32.90775067, 31.90311821,\n",
       "       34.55638457, 33.131568  , 33.7568738 , 33.10014183, 33.20362784,\n",
       "       33.97224842, 34.40921963, 36.28243348, 34.77403707, 34.89904535])"
      ]
     },
     "execution_count": 107,
     "metadata": {},
     "output_type": "execute_result"
    }
   ],
   "source": [
    "def intercepts(tbl, num_bootstraps):\n",
    "        \n",
    "    sampled_intercepts = make_array()\n",
    "        \n",
    "    for i in np.arange(num_bootstraps):\n",
    "        \n",
    "        new_sample = tbl.sample()\n",
    "        \n",
    "        intercept = fit_line(new_sample).item(1)\n",
    "        sampled_intercepts = np.append(sampled_intercepts, intercept)\n",
    "        \n",
    "    return sampled_intercepts\n",
    "\n",
    "intercepts(faithful, 1000)"
   ]
  },
  {
   "cell_type": "code",
   "execution_count": 112,
   "metadata": {},
   "outputs": [
    {
     "data": {
      "text/html": [
       "<table border=\"1\" class=\"dataframe\">\n",
       "    <thead>\n",
       "        <tr>\n",
       "            <th>Slope</th> <th>Intercepts</th>\n",
       "        </tr>\n",
       "    </thead>\n",
       "    <tbody>\n",
       "        <tr>\n",
       "            <td>10.7642</td> <td>32.9225   </td>\n",
       "        </tr>\n",
       "        <tr>\n",
       "            <td>10.7637</td> <td>34.3849   </td>\n",
       "        </tr>\n",
       "        <tr>\n",
       "            <td>10.7108</td> <td>32.9951   </td>\n",
       "        </tr>\n",
       "        <tr>\n",
       "            <td>10.4206</td> <td>33.2598   </td>\n",
       "        </tr>\n",
       "        <tr>\n",
       "            <td>10.5923</td> <td>35.107    </td>\n",
       "        </tr>\n",
       "        <tr>\n",
       "            <td>10.9228</td> <td>34.2472   </td>\n",
       "        </tr>\n",
       "        <tr>\n",
       "            <td>10.4105</td> <td>34.0736   </td>\n",
       "        </tr>\n",
       "        <tr>\n",
       "            <td>10.566 </td> <td>34.0746   </td>\n",
       "        </tr>\n",
       "        <tr>\n",
       "            <td>11.4076</td> <td>33.2354   </td>\n",
       "        </tr>\n",
       "        <tr>\n",
       "            <td>10.9283</td> <td>31.6785   </td>\n",
       "        </tr>\n",
       "    </tbody>\n",
       "</table>\n",
       "<p>... (990 rows omitted)</p>"
      ],
      "text/plain": [
       "Slope   | Intercepts\n",
       "10.7642 | 32.9225\n",
       "10.7637 | 34.3849\n",
       "10.7108 | 32.9951\n",
       "10.4206 | 33.2598\n",
       "10.5923 | 35.107\n",
       "10.9228 | 34.2472\n",
       "10.4105 | 34.0736\n",
       "10.566  | 34.0746\n",
       "11.4076 | 33.2354\n",
       "10.9283 | 31.6785\n",
       "... (990 rows omitted)"
      ]
     },
     "execution_count": 112,
     "metadata": {},
     "output_type": "execute_result"
    }
   ],
   "source": [
    "def bootstrap_lines(tbl, num_bootstraps):\n",
    "    return Table().with_columns(\n",
    "            \"Slope\", slopes(tbl, num_bootstraps),\n",
    "            \"Intercepts\", intercepts(tbl, num_bootstraps)\n",
    "    )\n",
    "regression_lines = bootstrap_lines(faithful, 1000)\n",
    "regression_lines"
   ]
  },
  {
   "cell_type": "markdown",
   "metadata": {},
   "source": [
    "<div class=\"hide\">\\pagebreak</div>\n",
    "\n",
    "#### Question 10\n",
    "\n",
    "Create an array called `predictions_for_six`.  It should contain 1000 numbers.  Each number should be the predicted waiting time after an eruption with a duration of 6 minutes, using a different bootstrapped regression line. Hint: use `regression_lines` from the previous questions."
   ]
  },
  {
   "cell_type": "code",
   "execution_count": 113,
   "metadata": {
    "ExecuteTime": {
     "end_time": "2018-04-11T12:05:55.991855Z",
     "start_time": "2018-04-11T12:05:55.759236Z"
    },
    "deletable": false
   },
   "outputs": [
    {
     "data": {
      "image/png": "[encoded data removed]",
      "text/plain": [
       "<Figure size 432x288 with 1 Axes>"
      ]
     },
     "metadata": {},
     "output_type": "display_data"
    }
   ],
   "source": [
    "slopes = regression_lines.column(0)\n",
    "intercepts = regression_lines.column(1)\n",
    "\n",
    "predictions_for_six = (slopes*6)+intercepts\n",
    "predictions_for_six\n",
    "\n",
    "\n",
    "# This will make a histogram of your predictions:\n",
    "table_of_predictions = Table().with_column('Predictions at eruptions=6', predictions_for_six)\n",
    "table_of_predictions.hist('Predictions at eruptions=6', bins=20)"
   ]
  },
  {
   "cell_type": "markdown",
   "metadata": {},
   "source": [
    "<div class=\"hide\">\\pagebreak</div>\n",
    "\n",
    "#### Question 11\n",
    "\n",
    "Create a 95 percent confidence interval for these predictions."
   ]
  },
  {
   "cell_type": "code",
   "execution_count": 114,
   "metadata": {
    "ExecuteTime": {
     "end_time": "2018-04-11T12:05:56.097136Z",
     "start_time": "2018-04-11T12:05:56.089117Z"
    },
    "deletable": false,
    "scrolled": true
   },
   "outputs": [
    {
     "name": "stdout",
     "output_type": "stream",
     "text": [
      "95% Confidence interval for predictions for x=6: ( 93.76512588118692 , 101.9423336235826 )\n"
     ]
    }
   ],
   "source": [
    "lower_bound = percentile(2.5, predictions_for_six)\n",
    "upper_bound = percentile(97.5, predictions_for_six)\n",
    "\n",
    "print('95% Confidence interval for predictions for x=6: (', lower_bound,\",\", upper_bound, ')')"
   ]
  },
  {
   "cell_type": "code",
   "execution_count": 115,
   "metadata": {
    "deletable": false
   },
   "outputs": [
    {
     "name": "stdout",
     "output_type": "stream",
     "text": [
      "~~~~~~~~~~~~~~~~~~~~~~~~~~~~~~~~~~~~~~~~~~~~~~~~~~~~~~~~~~~~~~~~~~~~~\n",
      "Running tests\n",
      "\n",
      "---------------------------------------------------------------------\n",
      "Test summary\n",
      "    Passed: 2\n",
      "    Failed: 0\n",
      "[ooooooooook] 100.0% passed\n",
      "\n"
     ]
    },
    {
     "data": {
      "application/javascript": [
       "IPython.notebook.save_checkpoint();"
      ],
      "text/plain": [
       "<IPython.core.display.Javascript object>"
      ]
     },
     "metadata": {},
     "output_type": "display_data"
    },
    {
     "data": {
      "application/javascript": [
       "IPython.notebook.save_notebook();"
      ],
      "text/plain": [
       "<IPython.core.display.Javascript object>"
      ]
     },
     "metadata": {},
     "output_type": "display_data"
    },
    {
     "name": "stdout",
     "output_type": "stream",
     "text": [
      "Saving notebook... Saved 'hw11.ipynb'.\n",
      "Backup... 100% complete\n",
      "Backup successful for user: emilyxu@berkeley.edu\n",
      "URL: https://okpy.org/cal/data8/fa18/hw11/backups/xvK9On\n",
      "NOTE: this is only a backup. To submit your assignment, use:\n",
      "\tpython3 ok --submit\n",
      "\n"
     ]
    }
   ],
   "source": [
    "_ = ok.grade('q3_11')\n",
    "_ = ok.backup()"
   ]
  },
  {
   "cell_type": "markdown",
   "metadata": {},
   "source": [
    "<div class=\"hide\">\\pagebreak</div>\n",
    "\n",
    "#### Question 12\n",
    "\n",
    "Look at the scatter plot of the data at the start of this exercise. \n",
    "Determine which of the following are true, then set `question_12_choice` to an array consisting of the numbers of statements that are true. For example, if you think that 1 and 2 are true but 3 is false, you'd assign `question_12_choice` to be an array consisting of the values 1 and 2.\n",
    "\n",
    "Statement 1: This confidence covers 95 percent of waiting times of eruptions in `faithful` that had an eruption duration of 6 minutes.\n",
    "\n",
    "Statement 2: This interval gives a sense of how much actual wait times differ from your prediction.\n",
    "\n",
    "Statement 3: The confidence interval quantifies our uncertainty in our estimate of what the true regression line would predict."
   ]
  },
  {
   "cell_type": "code",
   "execution_count": 116,
   "metadata": {
    "ExecuteTime": {
     "end_time": "2018-04-11T12:05:56.479878Z",
     "start_time": "2018-04-11T12:05:56.476869Z"
    },
    "deletable": false
   },
   "outputs": [],
   "source": [
    "question_12_choice = [3]"
   ]
  },
  {
   "cell_type": "code",
   "execution_count": 117,
   "metadata": {
    "ExecuteTime": {
     "end_time": "2018-04-11T12:05:56.798444Z",
     "start_time": "2018-04-11T12:05:56.659088Z"
    },
    "deletable": false,
    "scrolled": true
   },
   "outputs": [
    {
     "name": "stdout",
     "output_type": "stream",
     "text": [
      "~~~~~~~~~~~~~~~~~~~~~~~~~~~~~~~~~~~~~~~~~~~~~~~~~~~~~~~~~~~~~~~~~~~~~\n",
      "Running tests\n",
      "\n",
      "---------------------------------------------------------------------\n",
      "Test summary\n",
      "    Passed: 1\n",
      "    Failed: 0\n",
      "[ooooooooook] 100.0% passed\n",
      "\n"
     ]
    },
    {
     "data": {
      "application/javascript": [
       "IPython.notebook.save_checkpoint();"
      ],
      "text/plain": [
       "<IPython.core.display.Javascript object>"
      ]
     },
     "metadata": {},
     "output_type": "display_data"
    },
    {
     "data": {
      "application/javascript": [
       "IPython.notebook.save_notebook();"
      ],
      "text/plain": [
       "<IPython.core.display.Javascript object>"
      ]
     },
     "metadata": {},
     "output_type": "display_data"
    },
    {
     "name": "stdout",
     "output_type": "stream",
     "text": [
      "Saving notebook... Saved 'hw11.ipynb'.\n",
      "Backup... 100% complete\n",
      "Backup successful for user: emilyxu@berkeley.edu\n",
      "URL: https://okpy.org/cal/data8/fa18/hw11/backups/1rJEWG\n",
      "NOTE: this is only a backup. To submit your assignment, use:\n",
      "\tpython3 ok --submit\n",
      "\n"
     ]
    }
   ],
   "source": [
    "_ = ok.grade('q3_12')\n",
    "_ = ok.backup()"
   ]
  },
  {
   "cell_type": "markdown",
   "metadata": {},
   "source": [
    "## 4. Submission\n"
   ]
  },
  {
   "cell_type": "markdown",
   "metadata": {
    "collapsed": true
   },
   "source": [
    "Once you're finished, select \"Save and Checkpoint\" in the File menu and then execute the `submit` cell below. The result will contain a link that you can use to check that your assignment has been submitted successfully. If you submit more than once before the deadline, we will only grade your final submission. If you mistakenly submit the wrong one, you can head to [okpy.org](https://okpy.org/) and flag the correct version. To do so, go to the website, click on this assignment, and find the version you would like to have graded. There should be an option to flag that submission for grading!"
   ]
  },
  {
   "cell_type": "code",
   "execution_count": null,
   "metadata": {},
   "outputs": [
    {
     "data": {
      "application/javascript": [
       "IPython.notebook.save_checkpoint();"
      ],
      "text/plain": [
       "<IPython.core.display.Javascript object>"
      ]
     },
     "metadata": {},
     "output_type": "display_data"
    }
   ],
   "source": [
    "_ = ok.submit()"
   ]
  },
  {
   "cell_type": "code",
   "execution_count": 118,
   "metadata": {},
   "outputs": [
    {
     "name": "stdout",
     "output_type": "stream",
     "text": [
      "Running all tests...\n",
      "~~~~~~~~~~~~~~~~~~~~~~~~~~~~~~~~~~~~~~~~~~~~~~~~~~~~~~~~~~~~~~~~~~~~~\n",
      "Running tests\n",
      "\n",
      "---------------------------------------------------------------------\n",
      "Test summary\n",
      "    Passed: 1\n",
      "    Failed: 0\n",
      "[ooooooooook] 100.0% passed\n",
      "\n",
      "~~~~~~~~~~~~~~~~~~~~~~~~~~~~~~~~~~~~~~~~~~~~~~~~~~~~~~~~~~~~~~~~~~~~~\n",
      "Running tests\n",
      "\n",
      "---------------------------------------------------------------------\n",
      "Test summary\n",
      "    Passed: 1\n",
      "    Failed: 0\n",
      "[ooooooooook] 100.0% passed\n",
      "\n",
      "~~~~~~~~~~~~~~~~~~~~~~~~~~~~~~~~~~~~~~~~~~~~~~~~~~~~~~~~~~~~~~~~~~~~~\n",
      "Running tests\n",
      "\n",
      "---------------------------------------------------------------------\n",
      "Test summary\n",
      "    Passed: 1\n",
      "    Failed: 0\n",
      "[ooooooooook] 100.0% passed\n",
      "\n",
      "~~~~~~~~~~~~~~~~~~~~~~~~~~~~~~~~~~~~~~~~~~~~~~~~~~~~~~~~~~~~~~~~~~~~~\n",
      "Running tests\n",
      "\n",
      "---------------------------------------------------------------------\n",
      "Test summary\n",
      "    Passed: 1\n",
      "    Failed: 0\n",
      "[ooooooooook] 100.0% passed\n",
      "\n",
      "~~~~~~~~~~~~~~~~~~~~~~~~~~~~~~~~~~~~~~~~~~~~~~~~~~~~~~~~~~~~~~~~~~~~~\n",
      "Running tests\n",
      "\n",
      "---------------------------------------------------------------------\n",
      "Test summary\n",
      "    Passed: 1\n",
      "    Failed: 0\n",
      "[ooooooooook] 100.0% passed\n",
      "\n",
      "~~~~~~~~~~~~~~~~~~~~~~~~~~~~~~~~~~~~~~~~~~~~~~~~~~~~~~~~~~~~~~~~~~~~~\n",
      "Running tests\n",
      "\n",
      "---------------------------------------------------------------------\n",
      "Test summary\n",
      "    Passed: 1\n",
      "    Failed: 0\n",
      "[ooooooooook] 100.0% passed\n",
      "\n",
      "~~~~~~~~~~~~~~~~~~~~~~~~~~~~~~~~~~~~~~~~~~~~~~~~~~~~~~~~~~~~~~~~~~~~~\n",
      "Running tests\n",
      "\n",
      "---------------------------------------------------------------------\n",
      "Test summary\n",
      "    Passed: 1\n",
      "    Failed: 0\n",
      "[ooooooooook] 100.0% passed\n",
      "\n",
      "~~~~~~~~~~~~~~~~~~~~~~~~~~~~~~~~~~~~~~~~~~~~~~~~~~~~~~~~~~~~~~~~~~~~~\n",
      "Running tests\n",
      "\n",
      "---------------------------------------------------------------------\n",
      "Test summary\n",
      "    Passed: 1\n",
      "    Failed: 0\n",
      "[ooooooooook] 100.0% passed\n",
      "\n",
      "~~~~~~~~~~~~~~~~~~~~~~~~~~~~~~~~~~~~~~~~~~~~~~~~~~~~~~~~~~~~~~~~~~~~~\n",
      "Running tests\n",
      "\n",
      "---------------------------------------------------------------------\n",
      "Test summary\n",
      "    Passed: 1\n",
      "    Failed: 0\n",
      "[ooooooooook] 100.0% passed\n",
      "\n",
      "~~~~~~~~~~~~~~~~~~~~~~~~~~~~~~~~~~~~~~~~~~~~~~~~~~~~~~~~~~~~~~~~~~~~~\n",
      "Running tests\n",
      "\n",
      "---------------------------------------------------------------------\n",
      "Test summary\n",
      "    Passed: 1\n",
      "    Failed: 0\n",
      "[ooooooooook] 100.0% passed\n",
      "\n",
      "~~~~~~~~~~~~~~~~~~~~~~~~~~~~~~~~~~~~~~~~~~~~~~~~~~~~~~~~~~~~~~~~~~~~~\n",
      "Running tests\n",
      "\n",
      "---------------------------------------------------------------------\n",
      "Test summary\n",
      "    Passed: 1\n",
      "    Failed: 0\n",
      "[ooooooooook] 100.0% passed\n",
      "\n",
      "~~~~~~~~~~~~~~~~~~~~~~~~~~~~~~~~~~~~~~~~~~~~~~~~~~~~~~~~~~~~~~~~~~~~~\n",
      "Running tests\n",
      "\n",
      "---------------------------------------------------------------------\n",
      "Test summary\n",
      "    Passed: 1\n",
      "    Failed: 0\n",
      "[ooooooooook] 100.0% passed\n",
      "\n",
      "~~~~~~~~~~~~~~~~~~~~~~~~~~~~~~~~~~~~~~~~~~~~~~~~~~~~~~~~~~~~~~~~~~~~~\n",
      "Running tests\n",
      "\n",
      "---------------------------------------------------------------------\n",
      "Test summary\n",
      "    Passed: 1\n",
      "    Failed: 0\n",
      "[ooooooooook] 100.0% passed\n",
      "\n",
      "~~~~~~~~~~~~~~~~~~~~~~~~~~~~~~~~~~~~~~~~~~~~~~~~~~~~~~~~~~~~~~~~~~~~~\n",
      "Running tests\n",
      "\n",
      "---------------------------------------------------------------------\n",
      "Test summary\n",
      "    Passed: 1\n",
      "    Failed: 0\n",
      "[ooooooooook] 100.0% passed\n",
      "\n",
      "~~~~~~~~~~~~~~~~~~~~~~~~~~~~~~~~~~~~~~~~~~~~~~~~~~~~~~~~~~~~~~~~~~~~~\n",
      "Running tests\n",
      "\n",
      "---------------------------------------------------------------------\n",
      "Test summary\n",
      "    Passed: 2\n",
      "    Failed: 0\n",
      "[ooooooooook] 100.0% passed\n",
      "\n",
      "~~~~~~~~~~~~~~~~~~~~~~~~~~~~~~~~~~~~~~~~~~~~~~~~~~~~~~~~~~~~~~~~~~~~~\n",
      "Running tests\n",
      "\n",
      "---------------------------------------------------------------------\n",
      "Test summary\n",
      "    Passed: 2\n",
      "    Failed: 0\n",
      "[ooooooooook] 100.0% passed\n",
      "\n",
      "Finished running all tests.\n"
     ]
    }
   ],
   "source": [
    "# For your convenience, you can run this cell to run all the tests at once!\n",
    "import os\n",
    "print(\"Running all tests...\")\n",
    "_ = [ok.grade(q[:-3]) for q in os.listdir(\"tests\") if q.startswith('q') and len(q) <= 10]\n",
    "print(\"Finished running all tests.\")"
   ]
  }
 ],
 "metadata": {
  "kernelspec": {
   "display_name": "Python 3",
   "language": "python",
   "name": "python3"
  },
  "language_info": {
   "codemirror_mode": {
    "name": "ipython",
    "version": 3
   },
   "file_extension": ".py",
   "mimetype": "text/x-python",
   "name": "python",
   "nbconvert_exporter": "python",
   "pygments_lexer": "ipython3",
   "version": "3.8.6"
  }
 },
 "nbformat": 4,
 "nbformat_minor": 1
}
